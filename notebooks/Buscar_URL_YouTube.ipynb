{
 "cells": [
  {
   "cell_type": "markdown",
   "id": "7edc9187",
   "metadata": {},
   "source": [
    "# Zona de Importaciones"
   ]
  },
  {
   "cell_type": "code",
   "execution_count": null,
   "id": "e62b5d8a",
   "metadata": {},
   "outputs": [],
   "source": [
    "import pandas as pd\n",
    "import numpy as np\n",
    "import random\n",
    "import shutil\n",
    "import tempfile\n",
    "import yt_dlp\n",
    "#from pytube import YouTube\n",
    "import speech_recognition as sr\n",
    "import whisper\n",
    "from pydub import AudioSegment\n",
    "import dask\n",
    "from dask import delayed\n",
    "from dask.diagnostics import ProgressBar\n",
    "import dask.dataframe as dd\n",
    "import time\n",
    "# import concurrent.futures\n",
    "import os\n",
    "import re\n",
    "\n",
    "from vosk import Model, KaldiRecognizer\n",
    "# import deepspeech\n",
    "import wave\n",
    "import json\n",
    "\n",
    "import subprocess\n",
    "\n",
    "from transformers import Wav2Vec2ForCTC, Wav2Vec2Processor\n",
    "import torch\n",
    "import librosa\n",
    "\n",
    "import torchaudio\n",
    "# from espnet_model_zoo.downloader import ModelDownloader\n",
    "\n",
    "import re\n",
    "import os\n",
    "\n",
    "# os.environ[\"KERAS_BACKEND\"] = \"tensorflow\"\n",
    "\n",
    "# from glob import glob\n",
    "import tensorflow as tf\n",
    "import keras\n",
    "from keras import layers\n",
    "\n",
    "# pattern_wav_name = re.compile(r'([^/\\\\\\.]+)')\n"
   ]
  },
  {
   "cell_type": "markdown",
   "id": "901e576b",
   "metadata": {},
   "source": [
    "# Variables de entorno"
   ]
  },
  {
   "cell_type": "code",
   "execution_count": null,
   "id": "bbadca02",
   "metadata": {},
   "outputs": [],
   "source": [
    "COOKIES_FILE_PATH = '../conf/youtube.com_cookies.txt'\n",
    "INPUT_FILE_PATH = '../data/01_raw/canciones_urls.xlsx'\n",
    "OUTPUT_PATH = '../data/01_raw/'\n",
    "AUDIO_PATH = '../data/01_raw/audios/'\n",
    "LYRICS_FILE = '../data/01_raw/canciones_letra.xlsx'\n",
    "\n",
    "\n",
    "# Lista de User-Agents para rotar\n",
    "USER_AGENTS = [\n",
    "    'Mozilla/5.0 (Windows NT 10.0; Win64; x64) AppleWebKit/537.36 (KHTML, like Gecko) Chrome/91.0.4472.124 Safari/537.36',\n",
    "    'Mozilla/5.0 (Windows NT 10.0; Win64; x64; rv:89.0) Gecko/20100101 Firefox/89.0',\n",
    "    'Mozilla/5.0 (Macintosh; Intel Mac OS X 10_15_7) AppleWebKit/537.36 (KHTML, like Gecko) Chrome/91.0.4472.124 Safari/537.36'\n",
    "]"
   ]
  },
  {
   "cell_type": "markdown",
   "id": "e524d669",
   "metadata": {},
   "source": [
    "# Cargar Dataframe"
   ]
  },
  {
   "cell_type": "code",
   "execution_count": null,
   "id": "46ac3968",
   "metadata": {},
   "outputs": [],
   "source": [
    "df = pd.read_excel(INPUT_FILE_PATH)\n",
    "df_lyrics = pd.read_excel(LYRICS_FILE)"
   ]
  },
  {
   "cell_type": "code",
   "execution_count": null,
   "id": "3ad72452",
   "metadata": {},
   "outputs": [],
   "source": [
    "df_lyrics = df_lyrics[['AUDIO_NAME','LETRA','AUDIO_DESCARGADO']].copy()\n",
    "df_manual_lyrics = df[['TITULO','AÑO','COMPOSITOR','UBICACIÓN','DEPARTAMENTO','URL','GENERO','LETRA']].copy()\n",
    "df = df[['TITULO','AÑO','COMPOSITOR','UBICACIÓN','DEPARTAMENTO','URL','GENERO']].copy()"
   ]
  },
  {
   "cell_type": "code",
   "execution_count": null,
   "id": "c49e7772",
   "metadata": {},
   "outputs": [],
   "source": [
    "df = df[pd.notna(df['URL'])]\n",
    "df_manual_lyrics = df_manual_lyrics.dropna().copy()\n",
    "df_lyrics = df_lyrics.dropna().copy()"
   ]
  },
  {
   "cell_type": "code",
   "execution_count": null,
   "id": "9e5b69c4",
   "metadata": {},
   "outputs": [],
   "source": [
    "df['AUDIO_NAME'] = df['TITULO']+'_'+df['AÑO'].astype(str)+'_'+df['COMPOSITOR']\n",
    "df_manual_lyrics['AUDIO_NAME'] = df_manual_lyrics['TITULO']+'_'+df_manual_lyrics['AÑO'].astype(str)+'_'+df_manual_lyrics['COMPOSITOR']\n",
    "df_manual_lyrics['AUDIO_DESCARGADO'] = True"
   ]
  },
  {
   "cell_type": "code",
   "execution_count": null,
   "id": "f9f68a86",
   "metadata": {},
   "outputs": [],
   "source": [
    "df = df.merge(df_lyrics[['AUDIO_NAME','LETRA','AUDIO_DESCARGADO']], on='AUDIO_NAME', how='left')"
   ]
  },
  {
   "cell_type": "code",
   "execution_count": null,
   "id": "6e4a3a97",
   "metadata": {},
   "outputs": [],
   "source": [
    "df = pd.concat([df, df_manual_lyrics], axis=0)\n",
    "df.drop_duplicates(inplace=True)"
   ]
  },
  {
   "cell_type": "markdown",
   "id": "6f7f67f4",
   "metadata": {},
   "source": [
    "# Buscar URL de Youtube"
   ]
  },
  {
   "cell_type": "code",
   "execution_count": null,
   "id": "49293c85",
   "metadata": {},
   "outputs": [],
   "source": [
    "def buscar_youtube_url(titulo: str, compositor: str)->str:\n",
    "  \"\"\"\n",
    "    Función encargada de buscar una URL de YouTube según una query\n",
    "    Args:\n",
    "      titulo: str. Titulo de la canción\n",
    "      compositor: str. Nombre del compositor\n",
    "  \"\"\"\n",
    "  query = f'Canción: {titulo} - Compositor: {compositor}'\n",
    "  # Crear una copia temporal del archivo de cookies\n",
    "  temp_cookies = tempfile.NamedTemporaryFile(delete=False)\n",
    "  shutil.copy(COOKIES_FILE_PATH, temp_cookies.name)\n",
    "  \n",
    "  ydl_opts = {\n",
    "    \"quiet\": True,\n",
    "    'geo_bypass': True,\n",
    "    'cookiefile': temp_cookies.name\n",
    "    }\n",
    "  \n",
    "  with yt_dlp.YoutubeDL(ydl_opts) as ydl:\n",
    "    try:\n",
    "      result = ydl.extract_info(f\"ytsearch:{query}\", download=False)\n",
    "      for entry in result[\"entries\"]:\n",
    "        if (entry.get(\"duration\") and entry[\"duration\"] > 60) and (entry.get(\"duration\") and entry[\"duration\"] < 480):\n",
    "          return entry[\"webpage_url\"]\n",
    "      return result[\"webpage_url\"]\n",
    "    except Exception as e:\n",
    "      print(f'Ocurrió un error en la búsqueda de la URL en YouTube: {e}')\n",
    "      return ''"
   ]
  },
  {
   "cell_type": "code",
   "execution_count": null,
   "id": "42d2cc5d",
   "metadata": {},
   "outputs": [],
   "source": [
    "df['URL'] = df.apply(lambda row: buscar_youtube_url(row['TITULO'], row['COMPOSITOR']))"
   ]
  },
  {
   "cell_type": "markdown",
   "id": "d03face2",
   "metadata": {},
   "source": [
    "# Exportar resultados"
   ]
  },
  {
   "cell_type": "code",
   "execution_count": null,
   "id": "85be52fd",
   "metadata": {},
   "outputs": [],
   "source": [
    "df.to_excel('../data/02_intermediate/canciones_con_urls.xlsx', index=False)"
   ]
  }
 ],
 "metadata": {
  "language_info": {
   "name": "python"
  }
 },
 "nbformat": 4,
 "nbformat_minor": 5
}
