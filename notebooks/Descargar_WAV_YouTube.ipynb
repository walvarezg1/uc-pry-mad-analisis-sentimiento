{
 "cells": [
  {
   "cell_type": "markdown",
   "id": "68a1b6f7",
   "metadata": {},
   "source": [
    "# Zona de Importaciones"
   ]
  },
  {
   "cell_type": "code",
   "execution_count": null,
   "id": "f7e4b890",
   "metadata": {},
   "outputs": [],
   "source": [
    "import pandas as pd\n",
    "import numpy as np\n",
    "import random\n",
    "import shutil\n",
    "import tempfile\n",
    "import yt_dlp\n",
    "#from pytube import YouTube\n",
    "import speech_recognition as sr\n",
    "import whisper\n",
    "from pydub import AudioSegment\n",
    "import dask\n",
    "from dask import delayed\n",
    "from dask.diagnostics import ProgressBar\n",
    "import dask.dataframe as dd\n",
    "import time\n",
    "# import concurrent.futures\n",
    "import os\n",
    "import re\n",
    "\n",
    "from vosk import Model, KaldiRecognizer\n",
    "# import deepspeech\n",
    "import wave\n",
    "import json\n",
    "\n",
    "import subprocess\n",
    "\n",
    "from transformers import Wav2Vec2ForCTC, Wav2Vec2Processor\n",
    "import torch\n",
    "import librosa\n",
    "\n",
    "import torchaudio\n",
    "# from espnet_model_zoo.downloader import ModelDownloader\n",
    "\n",
    "import re\n",
    "import os\n",
    "\n",
    "# os.environ[\"KERAS_BACKEND\"] = \"tensorflow\"\n",
    "\n",
    "# from glob import glob\n",
    "import tensorflow as tf\n",
    "import keras\n",
    "from keras import layers\n",
    "\n",
    "# pattern_wav_name = re.compile(r'([^/\\\\\\.]+)')\n"
   ]
  },
  {
   "cell_type": "markdown",
   "id": "b0e73f57",
   "metadata": {},
   "source": [
    "# Variables de entorno"
   ]
  },
  {
   "cell_type": "code",
   "execution_count": null,
   "id": "52d9ec2d",
   "metadata": {},
   "outputs": [],
   "source": [
    "COOKIES_FILE_PATH = '../conf/youtube.com_cookies.txt'\n",
    "INPUT_FILE_PATH = '../data/01_raw/canciones_urls.xlsx'\n",
    "OUTPUT_PATH = '../data/01_raw/'\n",
    "AUDIO_PATH = '../data/03_primary/'\n",
    "\n",
    "\n",
    "# Lista de User-Agents para rotar\n",
    "USER_AGENTS = [\n",
    "    'Mozilla/5.0 (Windows NT 10.0; Win64; x64) AppleWebKit/537.36 (KHTML, like Gecko) Chrome/91.0.4472.124 Safari/537.36',\n",
    "    'Mozilla/5.0 (Windows NT 10.0; Win64; x64; rv:89.0) Gecko/20100101 Firefox/89.0',\n",
    "    'Mozilla/5.0 (Macintosh; Intel Mac OS X 10_15_7) AppleWebKit/537.36 (KHTML, like Gecko) Chrome/91.0.4472.124 Safari/537.36'\n",
    "]"
   ]
  },
  {
   "cell_type": "markdown",
   "id": "6cdb10b2",
   "metadata": {},
   "source": [
    "# Cargar Dataframe"
   ]
  },
  {
   "cell_type": "code",
   "execution_count": null,
   "id": "69132a22",
   "metadata": {},
   "outputs": [],
   "source": [
    "df = pd.read_excel(INPUT_FILE_PATH)"
   ]
  },
  {
   "cell_type": "code",
   "execution_count": null,
   "id": "c91500ed",
   "metadata": {},
   "outputs": [],
   "source": [
    "df.drop_duplicates(inplace=True)"
   ]
  },
  {
   "cell_type": "markdown",
   "id": "7ecc3f8b",
   "metadata": {},
   "source": [
    "# Descargar Audio (.wav)"
   ]
  },
  {
   "cell_type": "code",
   "execution_count": null,
   "id": "28a153df",
   "metadata": {},
   "outputs": [],
   "source": [
    "def descargar_audio(url, audio_name):\n",
    "    \"\"\"\n",
    "    Descarga un audio desde una URL usando yt-dlp.\n",
    "    \n",
    "    Args:\n",
    "        url: URL del video a descargar\n",
    "        audio_name: Nombre base del archivo de audio (sin extensión)\n",
    "        \n",
    "    Returns:\n",
    "        bool: True si la descarga fue exitosa, False en caso contrario\n",
    "    \"\"\"\n",
    "    temp_cookies = None\n",
    "    try:\n",
    "        # Validar y preparar la ruta de salida\n",
    "        audio_path = os.path.join(AUDIO_PATH, audio_name)\n",
    "        if not os.path.exists(AUDIO_PATH):\n",
    "            os.makedirs(AUDIO_PATH)\n",
    "        \n",
    "        # Crear archivo temporal de cookies\n",
    "        temp_cookies = tempfile.NamedTemporaryFile(delete=False)\n",
    "        shutil.copy(COOKIES_FILE_PATH, temp_cookies.name)\n",
    "        \n",
    "        # Configurar opciones de yt-dlp\n",
    "        ydl_opts = {\n",
    "            'quiet': True,\n",
    "            'ignoreerrors': True,\n",
    "            'format': 'bestaudio/best', \n",
    "            'outtmpl': audio_path + '.%(ext)s',\n",
    "            'extractaudio': True,\n",
    "            'audioformat': 'wav',\n",
    "            'cookiefile': temp_cookies.name,\n",
    "            'user_agent': 'Mozilla/5.0 (Windows NT 10.0; Win64; x64) AppleWebKit/537.36 (KHTML, like Gecko) Safari/537.36',\n",
    "            'retries': 10,\n",
    "            'fragment_retries': 10,\n",
    "            'extractor_args': {\n",
    "                'youtube': {\n",
    "                    'skip': ['dash', 'hls']\n",
    "                }\n",
    "            },\n",
    "            'postprocessors': [{\n",
    "                'key': 'FFmpegExtractAudio',\n",
    "                'preferredcodec': 'wav',\n",
    "                'preferredquality': '192',\n",
    "            }],\n",
    "            'prefer_ffmpeg': True,\n",
    "            'verbose': True\n",
    "        }\n",
    "        \n",
    "        # Descargar el audio\n",
    "        with yt_dlp.YoutubeDL(ydl_opts) as ydl:\n",
    "            ydl.download([url])\n",
    "            \n",
    "        # Verificar que el archivo se creó\n",
    "        for ext in ['.mp3', '.webm', '.m4a']:\n",
    "            output_file = f\"{audio_path}{ext}\"\n",
    "            if os.path.exists(output_file):\n",
    "                return True\n",
    "            \n",
    "        print(f\"Error: No se pudo encontrar el archivo descargado {audio_name}\")\n",
    "        return False\n",
    "        \n",
    "    except yt_dlp.DownloadError as e:\n",
    "        print(f'Error al descargar el audio: {e}')\n",
    "        return False\n",
    "    except IOError as e:\n",
    "        print(f'Error de E/S con los archivos: {e}')\n",
    "        return False\n",
    "    except Exception as e:\n",
    "        print(f'Error inesperado: {e}')\n",
    "        return False\n",
    "    finally:\n",
    "        # Limpiar archivo temporal de cookies\n",
    "        if temp_cookies:\n",
    "            try:\n",
    "                temp_cookies.close()\n",
    "                os.unlink(temp_cookies.name)\n",
    "            except Exception as e:\n",
    "                print(f\"Error al limpiar archivos temporales: {e}\")"
   ]
  },
  {
   "cell_type": "code",
   "execution_count": null,
   "id": "3dff4b74",
   "metadata": {},
   "outputs": [],
   "source": [
    "# Función para descargar un audio usando yt-dlp\n",
    "def descargar_audio_bash(url, nombre_audio):\n",
    "    try:\n",
    "        comando = [\n",
    "            \"yt-dlp\",\n",
    "            \"-x\",  # Extraer audio\n",
    "            \"--audio-format\", \"wav\",  # Formato WAV\n",
    "            \"--output\", f\"{AUDIO_PATH}/{nombre_audio}.%(ext)s\",  # Ruta de salida\n",
    "            url\n",
    "        ]\n",
    "        # Ejecutar comando en terminal\n",
    "        subprocess.run(comando, check=True)\n",
    "        return True\n",
    "    except subprocess.CalledProcessError as e:\n",
    "        print(f\"Error al descargar {nombre_audio}: {e}\")\n",
    "        return False"
   ]
  },
  {
   "cell_type": "code",
   "execution_count": null,
   "id": "ca9868d6",
   "metadata": {},
   "outputs": [],
   "source": [
    "def get_audio(url, audio_name):\n",
    "    time.sleep(random.randint(5, 10))\n",
    "    desc = descargar_audio_bash(url, audio_name)\n",
    "    return desc"
   ]
  },
  {
   "cell_type": "markdown",
   "id": "0f545c38",
   "metadata": {},
   "source": [
    "# Paralelización en la descarga"
   ]
  },
  {
   "cell_type": "code",
   "execution_count": null,
   "id": "94f553c0",
   "metadata": {},
   "outputs": [],
   "source": [
    "tasks = [delayed(get_audio)(url, audio_name) for url, audio_name in df[['URL','AUDIO_NAME']].values]"
   ]
  },
  {
   "cell_type": "code",
   "execution_count": null,
   "id": "ede2f9d1",
   "metadata": {},
   "outputs": [],
   "source": [
    "with ProgressBar():\n",
    "    df['AUDIO_DESCARGADO'] = dask.compute(*tasks, scheduler='threads')"
   ]
  },
  {
   "cell_type": "code",
   "execution_count": null,
   "id": "cf3d9f62",
   "metadata": {},
   "outputs": [],
   "source": [
    "df['AUDIO_DESCARGADO'].value_counts()"
   ]
  }
 ],
 "metadata": {
  "kernelspec": {
   "display_name": ".venv (3.11.9)",
   "language": "python",
   "name": "python3"
  },
  "language_info": {
   "codemirror_mode": {
    "name": "ipython",
    "version": 3
   },
   "file_extension": ".py",
   "mimetype": "text/x-python",
   "name": "python",
   "nbconvert_exporter": "python",
   "pygments_lexer": "ipython3",
   "version": "3.11.9"
  }
 },
 "nbformat": 4,
 "nbformat_minor": 5
}
