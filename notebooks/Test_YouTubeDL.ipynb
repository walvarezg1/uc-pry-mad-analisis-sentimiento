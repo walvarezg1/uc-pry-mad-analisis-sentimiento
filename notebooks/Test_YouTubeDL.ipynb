{
 "cells": [
  {
   "cell_type": "markdown",
   "metadata": {
    "id": "NVlCxHlvc8y_"
   },
   "source": [
    "# Requerimientos"
   ]
  },
  {
   "cell_type": "code",
   "execution_count": 2,
   "metadata": {
    "colab": {
     "base_uri": "https://localhost:8080/"
    },
    "executionInfo": {
     "elapsed": 17674,
     "status": "ok",
     "timestamp": 1740747153543,
     "user": {
      "displayName": "wilmar leonardo alvarez guzman",
      "userId": "06664832137781473602"
     },
     "user_tz": 300
    },
    "id": "-rD0JyAocBgV",
    "outputId": "5d051f05-b9a5-4d3f-f591-ce19d6baeeb0"
   },
   "outputs": [],
   "source": [
    "!pip install yt-dlp -q"
   ]
  },
  {
   "cell_type": "code",
   "execution_count": 3,
   "metadata": {
    "colab": {
     "base_uri": "https://localhost:8080/"
    },
    "executionInfo": {
     "elapsed": 9032,
     "status": "ok",
     "timestamp": 1740747162578,
     "user": {
      "displayName": "wilmar leonardo alvarez guzman",
      "userId": "06664832137781473602"
     },
     "user_tz": 300
    },
    "id": "XsRRHwOpdr_V",
    "outputId": "08b58e63-5c2e-46ba-d014-b4300807678c"
   },
   "outputs": [],
   "source": [
    "!pip install SpeechRecognition -q"
   ]
  },
  {
   "cell_type": "code",
   "execution_count": 4,
   "metadata": {
    "executionInfo": {
     "elapsed": 5265,
     "status": "ok",
     "timestamp": 1740747167851,
     "user": {
      "displayName": "wilmar leonardo alvarez guzman",
      "userId": "06664832137781473602"
     },
     "user_tz": 300
    },
    "id": "r51fWw3Adt8d"
   },
   "outputs": [],
   "source": [
    "!pip install pydub -q"
   ]
  },
  {
   "cell_type": "code",
   "execution_count": 5,
   "metadata": {
    "executionInfo": {
     "elapsed": 3900,
     "status": "ok",
     "timestamp": 1740747171750,
     "user": {
      "displayName": "wilmar leonardo alvarez guzman",
      "userId": "06664832137781473602"
     },
     "user_tz": 300
    },
    "id": "aO2L6hCMFBqi"
   },
   "outputs": [],
   "source": [
    "!pip install dask -q"
   ]
  },
  {
   "cell_type": "code",
   "execution_count": 6,
   "metadata": {},
   "outputs": [],
   "source": [
    "!pip install openai-whisper -q"
   ]
  },
  {
   "cell_type": "code",
   "execution_count": 40,
   "metadata": {},
   "outputs": [],
   "source": [
    "!pip install vosk -q"
   ]
  },
  {
   "cell_type": "markdown",
   "metadata": {
    "id": "C9tQJTYJdAIq"
   },
   "source": [
    "# Zona de Importaciones"
   ]
  },
  {
   "cell_type": "code",
   "execution_count": 41,
   "metadata": {
    "executionInfo": {
     "elapsed": 1163,
     "status": "ok",
     "timestamp": 1740747172927,
     "user": {
      "displayName": "wilmar leonardo alvarez guzman",
      "userId": "06664832137781473602"
     },
     "user_tz": 300
    },
    "id": "x5Bkm1vgcMJG"
   },
   "outputs": [],
   "source": [
    "import pandas as pd\n",
    "import shutil\n",
    "import tempfile\n",
    "import yt_dlp\n",
    "import speech_recognition as sr\n",
    "import whisper\n",
    "from pydub import AudioSegment\n",
    "import dask\n",
    "from dask import delayed\n",
    "from dask.diagnostics import ProgressBar\n",
    "import dask.dataframe as dd\n",
    "import time\n",
    "import concurrent.futures\n",
    "import os\n",
    "\n",
    "from vosk import Model, KaldiRecognizer\n",
    "import wave\n",
    "import json"
   ]
  },
  {
   "cell_type": "markdown",
   "metadata": {
    "id": "1oIhpAWwdWU9"
   },
   "source": [
    "# Variables de entorno"
   ]
  },
  {
   "cell_type": "code",
   "execution_count": 60,
   "metadata": {
    "colab": {
     "base_uri": "https://localhost:8080/"
    },
    "executionInfo": {
     "elapsed": 130053,
     "status": "ok",
     "timestamp": 1740747302982,
     "user": {
      "displayName": "wilmar leonardo alvarez guzman",
      "userId": "06664832137781473602"
     },
     "user_tz": 300
    },
    "id": "CQbmUycHEg2C",
    "outputId": "67f7da92-b2f6-4af4-c700-5042a2a34e88"
   },
   "outputs": [],
   "source": [
    "COOKIES_FILE_PATH = '../notebooks/conf/youtube.com_cookies.txt'\n",
    "#COOKIES_FILE_PATH = 'C:/Users/WilmarAl/Documents/00-Personal/01 - Maestria/00 - UNIVERSIDAD CENTRAL/4 Semestre/Proyecto/uc-pry-mad-analisis-sentimiento/notebooks/conf/youtube.com_cookies.txt'\n",
    "INPUT_FILE_PATH = '../notebooks/data/canciones limpias.xlsx'\n",
    "INPUT_FILE_PATH_2 = '../notebooks/data/canciones_urls.xlsx'\n",
    "OUTPUT_PATH = '../notebooks/data/'\n",
    "AUDIO_PATH = 'C:/Users/WilmarAl/Documents/00-Personal/01 - Maestria/00 - UNIVERSIDAD CENTRAL/4 Semestre/Proyecto/uc-pry-mad-analisis-sentimiento/notebooks/data/audios/'"
   ]
  },
  {
   "cell_type": "code",
   "execution_count": 61,
   "metadata": {},
   "outputs": [
    {
     "name": "stdout",
     "output_type": "stream",
     "text": [
      "# Netscape HTTP Cookie File\n",
      "# http://curl.haxx.se/rfc/cookie_spec.html\n",
      "# This is a generated file!  Do not edit.\n",
      "\n",
      ".youtube.com\tTRUE\t/\tTRUE\t1776170590\t__Secure-3PAPISID\t01f8IHmR8niTVDo7/A5oGtYbF0FW7H1xDb\n",
      ".youtube.com\tTRUE\t/\tTRUE\t1776170590\t__Secure-3PSID\tg.a000ughC731s0rblxbidyYUDv-35aDoEFSi5EIfmC7J5548fpYFEIwmWIHBGq8hxOX8lvd7sagACgYKAVASARQSFQHGX2MiHjg2xyuIA8M2D2rcVMO_URoVAUF8yKqwEhPBG2LsmnZVSar-rlhl0076\n",
      ".youtube.com\tTRUE\t/\tTRUE\t1776170590\tLOGIN_INFO\tAFmmF2swRQIgQIT-2FSNCxMbku0Rm8cpD2tpVDfJb_HDCCpskt8PkYICIQClp78dcWfAr4VA_83JhT35MKuKIL0vDScduhtKo8NvYw:QUQ3MjNmd0JCbUZsR2ZKZzB3YVdYNnFQLVNpWHRPbkVHdnpVclpNa1RpRkZQcDRzMUVaWGd4R0RNTV82YmdocjIwWlowczY1RE8zc3pNaEdkRk8xZ0xRYm15Q0I0MXlyQWRnYk4xR0prcm5UeE9OdWN1LTNvMzhpRlhQaS1xMlNYTFNwa0QzYkpaM081c0xiYjhTZGZ0WnloX3VrWVpuT2ZR\n",
      ".youtube.com\tTRUE\t/\tFALSE\t0\twide\t1\n",
      ".youtube.com\tTRUE\t/\tTRUE\t1776195035\tPREF\tf6=40000080&f4=4000000&tz=America.Bogota&f5=30000&f7=100\n",
      ".youtube.com\tTRUE\t/\tTRUE\t1773170456\t__Secure-1PSIDTS\tsidts-CjEBEJ3XVw9tJEeF3UsNbOJdgktVLRRcrMn_V1noFGd-ReyT3fSRgIhjLjSaCiOuBlFoEAA\n",
      ".youtube.com\tTRUE\t/\tTRUE\t1773170456\t__Secure-3PSIDTS\tsidts-CjEBEJ3XVw9tJEeF3UsNbOJdgktVLRRcrMn_V1noFGd-ReyT3fSRgIhjLjSaCiOuBlFoEAA\n",
      ".youtube.com\tTRUE\t/\tFALSE\t1741635039\tST-tladcw\tsession_logininfo=AFmmF2swRQIgQIT-2FSNCxMbku0Rm8cpD2tpVDfJb_HDCCpskt8PkYICIQClp78dcWfAr4VA_83JhT35MKuKIL0vDScduhtKo8NvYw%3AQUQ3MjNmd0JCbUZsR2ZKZzB3YVdYNnFQLVNpWHRPbkVHdnpVclpNa1RpRkZQcDRzMUVaWGd4R0RNTV82YmdocjIwWlowczY1RE8zc3pNaEdkRk8xZ0xRYm15Q0I0MXlyQWRnYk4xR0prcm5UeE9OdWN1LTNvMzhpRlhQaS1xMlNYTFNwa0QzYkpaM081c0xiYjhTZGZ0WnloX3VrWVpuT2ZR\n",
      ".youtube.com\tTRUE\t/\tFALSE\t1741635039\tST-3opvp5\tsession_logininfo=AFmmF2swRQIgQIT-2FSNCxMbku0Rm8cpD2tpVDfJb_HDCCpskt8PkYICIQClp78dcWfAr4VA_83JhT35MKuKIL0vDScduhtKo8NvYw%3AQUQ3MjNmd0JCbUZsR2ZKZzB3YVdYNnFQLVNpWHRPbkVHdnpVclpNa1RpRkZQcDRzMUVaWGd4R0RNTV82YmdocjIwWlowczY1RE8zc3pNaEdkRk8xZ0xRYm15Q0I0MXlyQWRnYk4xR0prcm5UeE9OdWN1LTNvMzhpRlhQaS1xMlNYTFNwa0QzYkpaM081c0xiYjhTZGZ0WnloX3VrWVpuT2ZR\n",
      ".youtube.com\tTRUE\t/\tFALSE\t1741635040\tST-xuwub9\tsession_logininfo=AFmmF2swRQIgQIT-2FSNCxMbku0Rm8cpD2tpVDfJb_HDCCpskt8PkYICIQClp78dcWfAr4VA_83JhT35MKuKIL0vDScduhtKo8NvYw%3AQUQ3MjNmd0JCbUZsR2ZKZzB3YVdYNnFQLVNpWHRPbkVHdnpVclpNa1RpRkZQcDRzMUVaWGd4R0RNTV82YmdocjIwWlowczY1RE8zc3pNaEdkRk8xZ0xRYm15Q0I0MXlyQWRnYk4xR0prcm5UeE9OdWN1LTNvMzhpRlhQaS1xMlNYTFNwa0QzYkpaM081c0xiYjhTZGZ0WnloX3VrWVpuT2ZR\n",
      ".youtube.com\tTRUE\t/\tTRUE\t1773171036\t__Secure-3PSIDCC\tAKEyXzVok0dJVsl5WABaKT6garNMJ5x5D1eFFSis3T-wO78tws7sog7ZUqWHQpK0xiOPvQ-L\n",
      ".youtube.com\tTRUE\t/\tTRUE\t0\tYSC\tXWYcSSl9M7Q\n",
      ".youtube.com\tTRUE\t/\tTRUE\t1757187035\tVISITOR_INFO1_LIVE\tTCMuhT8LOfk\n",
      ".youtube.com\tTRUE\t/\tTRUE\t1757187035\tVISITOR_PRIVACY_METADATA\tCgJDTxIEGgAgTw%3D%3D\n",
      ".youtube.com\tTRUE\t/\tTRUE\t1757162590\t__Secure-ROLLOUT_TOKEN\tCJD22emetamI6QEQs5mVhMX_iwMYnffLhMX_iwM%3D\n",
      "\n"
     ]
    }
   ],
   "source": [
    "with open(COOKIES_FILE_PATH, 'r', encoding='utf-8') as archivo:\n",
    "    contenido = archivo.read()\n",
    "\n",
    "print(contenido)"
   ]
  },
  {
   "cell_type": "markdown",
   "metadata": {
    "id": "jtynaPlbdT_y"
   },
   "source": [
    "# Cargar Dataframe"
   ]
  },
  {
   "cell_type": "code",
   "execution_count": 62,
   "metadata": {
    "executionInfo": {
     "elapsed": 52120,
     "status": "ok",
     "timestamp": 1740747355101,
     "user": {
      "displayName": "wilmar leonardo alvarez guzman",
      "userId": "06664832137781473602"
     },
     "user_tz": 300
    },
    "id": "CtxEqGfadGol"
   },
   "outputs": [],
   "source": [
    "df = pd.read_excel(INPUT_FILE_PATH_2)"
   ]
  },
  {
   "cell_type": "code",
   "execution_count": 63,
   "metadata": {
    "colab": {
     "base_uri": "https://localhost:8080/",
     "height": 206
    },
    "executionInfo": {
     "elapsed": 196,
     "status": "ok",
     "timestamp": 1740747355296,
     "user": {
      "displayName": "wilmar leonardo alvarez guzman",
      "userId": "06664832137781473602"
     },
     "user_tz": 300
    },
    "id": "sCbjht8ve3qa",
    "outputId": "8f873324-e2ef-4da4-a2a6-4d7fca6b4971"
   },
   "outputs": [],
   "source": [
    "df = df[['TITULO','AÑO','COMPOSITOR','UBICACIÓN','DEPARTAMENTO','URL']]"
   ]
  },
  {
   "cell_type": "code",
   "execution_count": 64,
   "metadata": {
    "colab": {
     "base_uri": "https://localhost:8080/"
    },
    "executionInfo": {
     "elapsed": 108,
     "status": "ok",
     "timestamp": 1740747355405,
     "user": {
      "displayName": "wilmar leonardo alvarez guzman",
      "userId": "06664832137781473602"
     },
     "user_tz": 300
    },
    "id": "MY_R_o6QcWeu",
    "outputId": "d9a28972-c99f-4153-db85-377968d5c3af"
   },
   "outputs": [
    {
     "name": "stdout",
     "output_type": "stream",
     "text": [
      "<class 'pandas.core.frame.DataFrame'>\n",
      "RangeIndex: 383711 entries, 0 to 383710\n",
      "Data columns (total 6 columns):\n",
      " #   Column        Non-Null Count   Dtype \n",
      "---  ------        --------------   ----- \n",
      " 0   TITULO        383347 non-null  object\n",
      " 1   AÑO           383711 non-null  int64 \n",
      " 2   COMPOSITOR    383711 non-null  object\n",
      " 3   UBICACIÓN     383711 non-null  object\n",
      " 4   DEPARTAMENTO  383711 non-null  object\n",
      " 5   URL           1202 non-null    object\n",
      "dtypes: int64(1), object(5)\n",
      "memory usage: 17.6+ MB\n"
     ]
    }
   ],
   "source": [
    "df.info()"
   ]
  },
  {
   "cell_type": "code",
   "execution_count": 65,
   "metadata": {},
   "outputs": [],
   "source": [
    "df = df.dropna().copy()"
   ]
  },
  {
   "cell_type": "code",
   "execution_count": 66,
   "metadata": {},
   "outputs": [],
   "source": [
    "df['AUDIO_NAME'] = df['TITULO']+'_'+df['AÑO'].astype(str)+'_'+df['COMPOSITOR']"
   ]
  },
  {
   "cell_type": "code",
   "execution_count": 67,
   "metadata": {},
   "outputs": [
    {
     "name": "stdout",
     "output_type": "stream",
     "text": [
      "<class 'pandas.core.frame.DataFrame'>\n",
      "Index: 1202 entries, 0 to 377914\n",
      "Data columns (total 7 columns):\n",
      " #   Column        Non-Null Count  Dtype \n",
      "---  ------        --------------  ----- \n",
      " 0   TITULO        1202 non-null   object\n",
      " 1   AÑO           1202 non-null   int64 \n",
      " 2   COMPOSITOR    1202 non-null   object\n",
      " 3   UBICACIÓN     1202 non-null   object\n",
      " 4   DEPARTAMENTO  1202 non-null   object\n",
      " 5   URL           1202 non-null   object\n",
      " 6   AUDIO_NAME    1202 non-null   object\n",
      "dtypes: int64(1), object(6)\n",
      "memory usage: 75.1+ KB\n"
     ]
    }
   ],
   "source": [
    "df.info()"
   ]
  },
  {
   "cell_type": "markdown",
   "metadata": {
    "id": "PyfHkqMOc4jo"
   },
   "source": [
    "# Particionar en dataframes por año"
   ]
  },
  {
   "cell_type": "code",
   "execution_count": 68,
   "metadata": {
    "colab": {
     "base_uri": "https://localhost:8080/"
    },
    "executionInfo": {
     "elapsed": 130,
     "status": "ok",
     "timestamp": 1740747355534,
     "user": {
      "displayName": "wilmar leonardo alvarez guzman",
      "userId": "06664832137781473602"
     },
     "user_tz": 300
    },
    "id": "Z6-VV1qVc3-8",
    "outputId": "d44d2ae3-1999-4862-931c-bed6c1983f9d"
   },
   "outputs": [],
   "source": [
    "df_1990 = df.query('AÑO == 1990') # 3.028 Canciones\n",
    "df_1991 = df.query('AÑO == 1991') # 2.139 Canciones\n",
    "df_1992 = df.query('AÑO == 1992') # 2.524 Canciones\n",
    "df_1993 = df.query('AÑO == 1993') # 2.295 Canciones\n",
    "df_1994 = df.query('AÑO == 1994') # 2.542 Canciones\n",
    "df_1995 = df.query('AÑO == 1995') # 3.516 Canciones\n",
    "df_1996 = df.query('AÑO == 1996') # 4.031 Canciones\n",
    "df_1997 = df.query('AÑO == 1997') # 3.977 Canciones\n",
    "df_1998 = df.query('AÑO == 1998') # 5.467 Canciones\n",
    "df_1999 = df.query('AÑO == 1999') # 5.608 Canciones\n",
    "df_2000 = df.query('AÑO == 2000') # 8.268 Canciones\n",
    "df_2001 = df.query('AÑO == 2001') # 5.657 Canciones\n",
    "df_2002 = df.query('AÑO == 2002') # 6.834 Canciones\n",
    "df_2003 = df.query('AÑO == 2003') # 7.714 Canciones\n",
    "df_2004 = df.query('AÑO == 2004') # 8.795 Canciones\n",
    "df_2005 = df.query('AÑO == 2005') # 10.218 Canciones\n",
    "df_2006 = df.query('AÑO == 2006') # 11.601 Canciones\n",
    "df_2007 = df.query('AÑO == 2007') # 12.085 Canciones\n",
    "df_2008 = df.query('AÑO == 2008') # 14.446 Canciones\n",
    "df_2009 = df.query('AÑO == 2009') # 13.847 Canciones\n",
    "df_2010 = df.query('AÑO == 2010') # 18.299 Canciones\n",
    "df_2011 = df.query('AÑO == 2011') # 14.784 Canciones\n",
    "df_2012 = df.query('AÑO == 2012') # 17.175 Canciones\n",
    "df_2013 = df.query('AÑO == 2013') # 15.052 Canciones\n",
    "df_2014 = df.query('AÑO == 2014') # 17.497 Canciones\n",
    "df_2015 = df.query('AÑO == 2015') # 17.836 Canciones\n",
    "df_2016 = df.query('AÑO == 2016') # 18.376 Canciones\n",
    "df_2017 = df.query('AÑO == 2017') # 19.377 Canciones\n",
    "df_2018 = df.query('AÑO == 2018') # 20.167 Canciones\n",
    "df_2019 = df.query('AÑO == 2019') # 20.994 Canciones\n",
    "df_2020 = df.query('AÑO == 2020') # 23.691 Canciones\n",
    "df_2021 = df.query('AÑO == 2021') # 18.345 Canciones\n",
    "df_2022 = df.query('AÑO == 2022') # 16.239 Canciones\n",
    "df_2023 = df.query('AÑO == 2023') # 11.278 Canciones"
   ]
  },
  {
   "cell_type": "markdown",
   "metadata": {
    "id": "Dc_MCpeuftOY"
   },
   "source": [
    "# Definición de las funciones"
   ]
  },
  {
   "cell_type": "code",
   "execution_count": 69,
   "metadata": {},
   "outputs": [],
   "source": [
    "def limpiar_texto(text):\n",
    "  '''\n",
    "    Limpiar el texto\n",
    "  '''\n",
    "  text = text.replace('\\n', ' ') # Saltos de línea\n",
    "  text = text.replace('\\t', ' ') # Tabuladores\n",
    "  text = text.replace('á', 'a')\n",
    "  text = text.replace('é', 'e')\n",
    "  text = text.replace('í', 'i')\n",
    "  text = text.replace('ó', 'o')\n",
    "  text = text.replace('ú', 'u')\n",
    "  text = text.lower() # Pasa el texto a minúsculas\n",
    "  return text"
   ]
  },
  {
   "cell_type": "code",
   "execution_count": 44,
   "metadata": {
    "executionInfo": {
     "elapsed": 5,
     "status": "ok",
     "timestamp": 1740747355671,
     "user": {
      "displayName": "wilmar leonardo alvarez guzman",
      "userId": "06664832137781473602"
     },
     "user_tz": 300
    },
    "id": "B6KWm3wPHLSu"
   },
   "outputs": [],
   "source": [
    "def buscar_youtube_url(titulo, anio, compositor, ubicacion):\n",
    "  query = f'Canción: {titulo} - Compositor: {compositor}'\n",
    "  # Crear una copia temporal del archivo de cookies\n",
    "  temp_cookies = tempfile.NamedTemporaryFile(delete=False)\n",
    "  shutil.copy(COOKIES_FILE_PATH, temp_cookies.name)\n",
    "  \n",
    "  ydl_opts = {\n",
    "    \"quiet\": True,\n",
    "    'geo_bypass': True,\n",
    "    'cookiefile': temp_cookies.name\n",
    "    }\n",
    "  with yt_dlp.YoutubeDL(ydl_opts) as ydl:\n",
    "    try:\n",
    "      result = ydl.extract_info(f\"ytsearch:{query}\", download=False)\n",
    "      for entry in result[\"entries\"]:\n",
    "        if (entry.get(\"duration\") and entry[\"duration\"] > 60) and (entry.get(\"duration\") and entry[\"duration\"] < 480):\n",
    "          return entry[\"webpage_url\"]\n",
    "      return result[\"webpage_url\"]\n",
    "    except:\n",
    "      return None"
   ]
  },
  {
   "cell_type": "code",
   "execution_count": 45,
   "metadata": {
    "executionInfo": {
     "elapsed": 4,
     "status": "ok",
     "timestamp": 1740747355672,
     "user": {
      "displayName": "wilmar leonardo alvarez guzman",
      "userId": "06664832137781473602"
     },
     "user_tz": 300
    },
    "id": "hEGFwNR4cOWk"
   },
   "outputs": [],
   "source": [
    "def descargar_audio(url, audio_name):\n",
    "  # Crear una copia temporal del archivo de cookies\n",
    "  #print(f'EMPEZANDO DESCARGA: {url}')\n",
    "  temp_cookies = tempfile.NamedTemporaryFile(delete=False)\n",
    "  shutil.copy(COOKIES_FILE_PATH, temp_cookies.name)\n",
    "  #print(f\"Archivo de cookies copiado a: {temp_cookies.name}\")\n",
    "\n",
    "  ydl_opts = {\n",
    "    \"quiet\": True,\n",
    "    'format': 'bestaudio/best',\n",
    "    'outtmpl': AUDIO_PATH+audio_name,\n",
    "    'cookiefile': temp_cookies.name,\n",
    "    'user_agent': 'Mozilla/5.0 (Windows NT 10.0; Win64; x64) AppleWebKit/537.36 (KHTML, like Gecko) Chrome/91.0.4472.124 Safari/537.36',\n",
    "    #'cookiesfrombrowser': ('chrome',),  # Usar cookies de Chrome\n",
    "    'postprocessors': [{\n",
    "      'key': 'FFmpegExtractAudio',\n",
    "      'preferredcodec': 'wav',\n",
    "      'preferredquality': '192',\n",
    "    }],\n",
    "    \"prefer_ffmpeg\": True\n",
    "  }\n",
    "  try:\n",
    "    with yt_dlp.YoutubeDL(ydl_opts) as ydl:\n",
    "      ydl.download([url])\n",
    "  except Exception as e:\n",
    "    print(f'Ocurrió un error: {e}')\n",
    "    \n",
    "  # finally:\n",
    "  #   temp_cookies.close()\n",
    "  #   os.unlink(temp_cookies.name)  # Eliminar el archivo temporal después de su uso"
   ]
  },
  {
   "cell_type": "code",
   "execution_count": 47,
   "metadata": {
    "executionInfo": {
     "elapsed": 15,
     "status": "ok",
     "timestamp": 1740747355700,
     "user": {
      "displayName": "wilmar leonardo alvarez guzman",
      "userId": "06664832137781473602"
     },
     "user_tz": 300
    },
    "id": "EYyK_Ti6dgpd"
   },
   "outputs": [],
   "source": [
    "def speech_recognition(audio_name):\n",
    "  '''\n",
    "    Extraer el texto del audio\n",
    "\n",
    "    Parámetros:\n",
    "    audio_name: Nombre del archivo de audio\n",
    "\n",
    "    Retorna:\n",
    "    text: Texo reconocido del audio en español\n",
    "  '''\n",
    "  try:\n",
    "    audio_path = AUDIO_PATH+audio_name + '.wav' # Se construye la ruta completa para acceder al audio: La ruta ya está validada y si hay un audio allí con el nombre que ejecuto\n",
    "    print(audio_path) # outhput: C:/Users/WilmarAl/Documents/00-Personal/01 - Maestria/00 - UNIVERSIDAD CENTRAL/4 Semestre/Proyecto/uc-pry-mad-analisis-sentimiento/notebooks/data/audios/A MI MANERA TE QUIERO_1990_IVAN ANTONIO OVALLE POVEDA.wav\n",
    "    reconocedor = sr.Recognizer() # Libreria speech recognition\n",
    "    audio = AudioSegment.from_wav(audio_path) \n",
    "    text = ''\n",
    "    for i in range(0, len(audio), 30000):\n",
    "      fragmento = audio[i:i+30000]\n",
    "      temp_audio_path = AUDIO_PATH + audio_name + '_temp.wav'\n",
    "\n",
    "      fragmento.export(temp_audio_path, format='wav')\n",
    "\n",
    "      with sr.AudioFile(temp_audio_path) as fuente:\n",
    "        audio_data = reconocedor.record(fuente)\n",
    "        text_chunk = reconocedor.recognize_google(audio_data, language='es-ES')\n",
    "        text += text_chunk + ' '\n",
    "      \n",
    "      os.remove(temp_audio_path)  # Eliminar archivo temporal\n",
    "    \n",
    "    os.remove(audio_path)\n",
    "\n",
    "    if not text.strip():\n",
    "      return None\n",
    "    else:\n",
    "      text = limpiar_texto(text)\n",
    "      return text\n",
    "  except Exception as e:\n",
    "    print(f\"Error al procesar el audio {audio_name}: {e}\")\n",
    "    return None"
   ]
  },
  {
   "cell_type": "code",
   "execution_count": null,
   "metadata": {},
   "outputs": [],
   "source": [
    "def vosk_model(audio_name):\n",
    "    audio = AUDIO_PATH+audio_name+'.wav' #'C:/Users/WilmarAl/Documents/00-Personal/01 - Maestria/00 - UNIVERSIDAD CENTRAL/4 Semestre/Proyecto/uc-pry-mad-analisis-sentimiento/notebooks/data/audios/A MI MANERA TE QUIERO_1990_IVAN ANTONIO OVALLE POVEDA.wav'\n",
    "    model = Model(\"model-es\")  # Descarga un modelo de Vosk\n",
    "    wf = wave.open(audio, 'rb')\n",
    "    rec = KaldiRecognizer(model, wf.getframerate())\n",
    "\n",
    "    while True:\n",
    "        data = wf.readframes(4000)\n",
    "        if len(data) == 0:\n",
    "            break\n",
    "        if rec.AcceptWaveform(data):\n",
    "            result = rec.Result()\n",
    "            print(json.loads(result)[\"text\"])\n",
    "        else:\n",
    "            print(rec.PartialResult())\n",
    "\n",
    "    return rec.FinalResult()"
   ]
  },
  {
   "cell_type": "code",
   "execution_count": 73,
   "metadata": {},
   "outputs": [],
   "source": [
    "def whisper_openai(audio_name):\n",
    "    try:\n",
    "        audio = AUDIO_PATH+audio_name+'.wav' #'C:/Users/WilmarAl/Documents/00-Personal/01 - Maestria/00 - UNIVERSIDAD CENTRAL/4 Semestre/Proyecto/uc-pry-mad-analisis-sentimiento/notebooks/data/audios/A MI MANERA TE QUIERO_1990_IVAN ANTONIO OVALLE POVEDA.wav'\n",
    "        model = whisper.load_model(\"small\")  # O usa \"small\", \"medium\", \"large\"\n",
    "        result = model.transcribe(audio,  language=\"es\")\n",
    "        text = result[\"text\"]\n",
    "        if not text.strip():\n",
    "            return None\n",
    "            # text = vosk_model(audio_name)\n",
    "            # if not text.strip():\n",
    "            #     return None\n",
    "            # else:\n",
    "            #     text = limpiar_texto(text)\n",
    "            #     return text\n",
    "        else:\n",
    "            os.remove(audio)\n",
    "            text = limpiar_texto(text)\n",
    "            return text\n",
    "    except Exception as e:\n",
    "        print(f\"Error al procesar el audio {audio_name}: {e}\")\n",
    "        return None"
   ]
  },
  {
   "cell_type": "code",
   "execution_count": 27,
   "metadata": {},
   "outputs": [
    {
     "name": "stdout",
     "output_type": "stream",
     "text": [
      "Error al procesar el audio A MI MANERA TE QUIERO_1990_IVAN ANTONIO OVALLE POVEDA: Failed to load audio: ffmpeg version 2025-02-26-git-99e2af4e78-essentials_build-www.gyan.dev Copyright (c) 2000-2025 the FFmpeg developers\n",
      "  built with gcc 14.2.0 (Rev1, Built by MSYS2 project)\n",
      "  configuration: --enable-gpl --enable-version3 --enable-static --disable-w32threads --disable-autodetect --enable-fontconfig --enable-iconv --enable-gnutls --enable-libxml2 --enable-gmp --enable-bzlib --enable-lzma --enable-zlib --enable-libsrt --enable-libssh --enable-libzmq --enable-avisynth --enable-sdl2 --enable-libwebp --enable-libx264 --enable-libx265 --enable-libxvid --enable-libaom --enable-libopenjpeg --enable-libvpx --enable-mediafoundation --enable-libass --enable-libfreetype --enable-libfribidi --enable-libharfbuzz --enable-libvidstab --enable-libvmaf --enable-libzimg --enable-amf --enable-cuda-llvm --enable-cuvid --enable-dxva2 --enable-d3d11va --enable-d3d12va --enable-ffnvcodec --enable-libvpl --enable-nvdec --enable-nvenc --enable-vaapi --enable-libgme --enable-libopenmpt --enable-libopencore-amrwb --enable-libmp3lame --enable-libtheora --enable-libvo-amrwbenc --enable-libgsm --enable-libopencore-amrnb --enable-libopus --enable-libspeex --enable-libvorbis --enable-librubberband\n",
      "  libavutil      59. 57.100 / 59. 57.100\n",
      "  libavcodec     61. 33.102 / 61. 33.102\n",
      "  libavformat    61.  9.107 / 61.  9.107\n",
      "  libavdevice    61.  4.100 / 61.  4.100\n",
      "  libavfilter    10.  9.100 / 10.  9.100\n",
      "  libswscale      8. 13.100 /  8. 13.100\n",
      "  libswresample   5.  4.100 /  5.  4.100\n",
      "  libpostproc    58.  4.100 / 58.  4.100\n",
      "[in#0 @ 00000168c7805500] Error opening input: No such file or directory\n",
      "Error opening input file C:/Users/WilmarAl/Documents/00-Personal/01 - Maestria/00 - UNIVERSIDAD CENTRAL/4 Semestre/Proyecto/uc-pry-mad-analisis-sentimiento/notebooks/data/audios/A MI MANERA TE QUIERO_1990_IVAN ANTONIO OVALLE POVEDA.wav.\n",
      "Error opening input files: No such file or directory\n",
      "\n"
     ]
    },
    {
     "name": "stderr",
     "output_type": "stream",
     "text": [
      "c:\\Users\\WilmarAl\\AppData\\Local\\Programs\\Python\\Python310\\lib\\site-packages\\whisper\\transcribe.py:126: UserWarning: FP16 is not supported on CPU; using FP32 instead\n",
      "  warnings.warn(\"FP16 is not supported on CPU; using FP32 instead\")\n"
     ]
    }
   ],
   "source": [
    "text = whisper_openai('A MI MANERA TE QUIERO_1990_IVAN ANTONIO OVALLE POVEDA')"
   ]
  },
  {
   "cell_type": "code",
   "execution_count": 22,
   "metadata": {},
   "outputs": [
    {
     "name": "stdout",
     "output_type": "stream",
     "text": [
      " Oye es la sangre, suye mi vida y ser mi miedo de amor Yo sé que tú eres muy feliz, amor con las costumbres y tadina Y yo te amo sin saber por qué, siento las mías tan cuerdadida Pero a crece saber cómo en vez es mi valla y mi vida Y se va perdiendo la tercera y mesa de grandes amigos Siento en mi alma un desprendimiento y a mí me la estima Cuando quedo solo rodando en el valle, ¿cuál baja ruido? No le pide la gente, no le pide, no le pide Gracias a Dios, yo nací, seca el bata puri, que es la pesa de mi peso Y en mi destino, sin fin, quiero hacerse feliz, que a mi manera te quiero Y en mi destino, sin fin, quiero hacerte feliz y a mi manera te quiero Y a mi manera te quiero, y a mi manera voy a hacerte enamorar de mi frecío tremion ya mi manera te quiero ya mi manera voy a hacerte enamorar Emig Wales, voy hacerte enamorar Ya manpla te muese en la revada voy a hacerte enamorar, de un acordeón voy hacerte enamorar, de mi guitar voy a hacerte enamorar de mi canción y a mi manera te quiero y a mi manera voy a hacerte enamorar Miren lo estamos que Tub use el éxito A veces me pongo a pensar el mejor que lo había sido una paisana La que es pilar esta canción que va, pero destino siempre gama y su foto es para que el amor no tiene colores ni raza solamente crece como niño y no sé, con tanta pernura te prometido en una nueva vida, frente a la nevada y un pedazo de tierra ha sembrado de morro con toda mi alma Gracias a Dios, nací de una mala sufición y te acabamos sinceros que trae el cielo en mi, la fuese a machustir que el amor a mi cuerpo que trae el cielo en mi, la fuese a machustir y el amor a mi pueblo y a mi manera te quiero y a mi manera muy acerte enamorar de un gracor de hon, voy acerte enamorar de mi guitarra voy acerte enamorar de un gracor de hon, voy acerte enamorar de la nevada y a mi manera te quiero y a mi manera voy acerte enamorar voy acerte enamorar de mi ch verysom voy acerte enamorar de un gracor de hon, y a mi manera te quiero y a mi manera voy acerte enamorar voy acerte enamorar\n"
     ]
    }
   ],
   "source": [
    "print(text)"
   ]
  },
  {
   "cell_type": "code",
   "execution_count": 28,
   "metadata": {
    "executionInfo": {
     "elapsed": 3,
     "status": "ok",
     "timestamp": 1740747355703,
     "user": {
      "displayName": "wilmar leonardo alvarez guzman",
      "userId": "06664832137781473602"
     },
     "user_tz": 300
    },
    "id": "cEyXCxAuUDJC"
   },
   "outputs": [],
   "source": [
    "def get_url(titulo, anio, compositor, ubicacion):\n",
    "  #time.sleep(2)\n",
    "  url = buscar_youtube_url(titulo, anio, compositor, ubicacion)\n",
    "  return url"
   ]
  },
  {
   "cell_type": "code",
   "execution_count": 51,
   "metadata": {
    "executionInfo": {
     "elapsed": 32,
     "status": "ok",
     "timestamp": 1740747355738,
     "user": {
      "displayName": "wilmar leonardo alvarez guzman",
      "userId": "06664832137781473602"
     },
     "user_tz": 300
    },
    "id": "7HSurxGgULkC"
   },
   "outputs": [],
   "source": [
    "def get_lyrics(url, audio_name):\n",
    "  time.sleep(2)\n",
    "  # print(f'DESCARGANDO AUDIO DE {audio_name}')\n",
    "  descargar_audio(url, audio_name)\n",
    "  # print(f'OPTENIENDO LETRA DE {audio_name}')\n",
    "  #text = speech_recognition(audio_name)\n",
    "  text = whisper_openai(audio_name)\n",
    "  return text"
   ]
  },
  {
   "cell_type": "code",
   "execution_count": 42,
   "metadata": {},
   "outputs": [
    {
     "ename": "KeyboardInterrupt",
     "evalue": "",
     "output_type": "error",
     "traceback": [
      "\u001b[1;31m---------------------------------------------------------------------------\u001b[0m",
      "\u001b[1;31mKeyboardInterrupt\u001b[0m                         Traceback (most recent call last)",
      "Cell \u001b[1;32mIn[42], line 1\u001b[0m\n\u001b[1;32m----> 1\u001b[0m letra_test \u001b[38;5;241m=\u001b[39m \u001b[43mget_lyrics\u001b[49m\u001b[43m(\u001b[49m\u001b[38;5;124;43m'\u001b[39;49m\u001b[38;5;124;43mhttps://www.youtube.com/@AlbeiroRincon/videos\u001b[39;49m\u001b[38;5;124;43m'\u001b[39;49m\u001b[43m,\u001b[49m\u001b[38;5;124;43m'\u001b[39;49m\u001b[38;5;124;43mSangre en Mis Manos\u001b[39;49m\u001b[38;5;124;43m'\u001b[39;49m\u001b[43m)\u001b[49m\n",
      "Cell \u001b[1;32mIn[41], line 2\u001b[0m, in \u001b[0;36mget_lyrics\u001b[1;34m(url, audio_name)\u001b[0m\n\u001b[0;32m      1\u001b[0m \u001b[38;5;28;01mdef\u001b[39;00m \u001b[38;5;21mget_lyrics\u001b[39m(url, audio_name):\n\u001b[1;32m----> 2\u001b[0m   \u001b[43mtime\u001b[49m\u001b[38;5;241;43m.\u001b[39;49m\u001b[43msleep\u001b[49m\u001b[43m(\u001b[49m\u001b[38;5;241;43m2\u001b[39;49m\u001b[43m)\u001b[49m\n\u001b[0;32m      3\u001b[0m   \u001b[38;5;66;03m# print(f'DESCARGANDO AUDIO DE {audio_name}')\u001b[39;00m\n\u001b[0;32m      4\u001b[0m   descargar_audio(url, audio_name)\n",
      "\u001b[1;31mKeyboardInterrupt\u001b[0m: "
     ]
    }
   ],
   "source": [
    "letra_test = get_lyrics('https://www.youtube.com/@AlbeiroRincon/videos','Sangre en Mis Manos')"
   ]
  },
  {
   "cell_type": "code",
   "execution_count": 27,
   "metadata": {},
   "outputs": [
    {
     "name": "stdout",
     "output_type": "stream",
     "text": [
      "None\n"
     ]
    }
   ],
   "source": [
    "print(letra_test)"
   ]
  },
  {
   "cell_type": "markdown",
   "metadata": {
    "id": "_jQbFbIsetZY"
   },
   "source": [
    "# Paralelismo"
   ]
  },
  {
   "cell_type": "markdown",
   "metadata": {},
   "source": [
    "## Buscar URL"
   ]
  },
  {
   "cell_type": "code",
   "execution_count": 19,
   "metadata": {},
   "outputs": [],
   "source": [
    "# años = list(range(1990, 2024))\n",
    "\n",
    "# # Recorrer el dataframe df por cada año para aplicar una función\n",
    "# for año in años:\n",
    "#     df_filtrado = df.query('AÑO == @año').copy()\n",
    "#     if df_filtrado.empty:\n",
    "#         continue\n",
    "\n",
    "#     tasks_1 = [delayed(get_url)(titulo, anio, compositor, ubicacion) \n",
    "#                for titulo, anio, compositor, ubicacion in df_filtrado[['TITULO', 'AÑO', 'COMPOSITOR', 'UBICACIÓN']].values\n",
    "#                ]\n",
    "    \n",
    "#     with ProgressBar():\n",
    "#         df_filtrado['YT_URL'] = dask.compute(*tasks_1, scheduler='threads')\n",
    "    \n",
    "#     # Actualizar el dataframe principal\n",
    "#     df.update(df_filtrado)\n"
   ]
  },
  {
   "cell_type": "code",
   "execution_count": 20,
   "metadata": {
    "executionInfo": {
     "elapsed": 2152,
     "status": "ok",
     "timestamp": 1740747357891,
     "user": {
      "displayName": "wilmar leonardo alvarez guzman",
      "userId": "06664832137781473602"
     },
     "user_tz": 300
    },
    "id": "tjM2-CxLUBPI"
   },
   "outputs": [],
   "source": [
    "# tasks_1990 = [delayed(get_url)(titulo, anio, compositor, ubicacion) for titulo, anio, compositor, ubicacion in df_1990[['TITULO', 'AÑO', 'COMPOSITOR', 'UBICACIÓN']].values]\n",
    "# tasks_1991 = [delayed(get_url)(titulo, anio, compositor, ubicacion) for titulo, anio, compositor, ubicacion in df_1991[['TITULO', 'AÑO', 'COMPOSITOR', 'UBICACIÓN']].values]\n",
    "# tasks_1992 = [delayed(get_url)(titulo, anio, compositor, ubicacion) for titulo, anio, compositor, ubicacion in df_1992[['TITULO', 'AÑO', 'COMPOSITOR', 'UBICACIÓN']].values]\n",
    "# tasks_1993 = [delayed(get_url)(titulo, anio, compositor, ubicacion) for titulo, anio, compositor, ubicacion in df_1993[['TITULO', 'AÑO', 'COMPOSITOR', 'UBICACIÓN']].values]\n",
    "# tasks_1994 = [delayed(get_url)(titulo, anio, compositor, ubicacion) for titulo, anio, compositor, ubicacion in df_1994[['TITULO', 'AÑO', 'COMPOSITOR', 'UBICACIÓN']].values]\n",
    "# tasks_1995 = [delayed(get_url)(titulo, anio, compositor, ubicacion) for titulo, anio, compositor, ubicacion in df_1995[['TITULO', 'AÑO', 'COMPOSITOR', 'UBICACIÓN']].values]\n",
    "# tasks_1996 = [delayed(get_url)(titulo, anio, compositor, ubicacion) for titulo, anio, compositor, ubicacion in df_1996[['TITULO', 'AÑO', 'COMPOSITOR', 'UBICACIÓN']].values]\n",
    "# tasks_1997 = [delayed(get_url)(titulo, anio, compositor, ubicacion) for titulo, anio, compositor, ubicacion in df_1997[['TITULO', 'AÑO', 'COMPOSITOR', 'UBICACIÓN']].values]\n",
    "# tasks_1998 = [delayed(get_url)(titulo, anio, compositor, ubicacion) for titulo, anio, compositor, ubicacion in df_1998[['TITULO', 'AÑO', 'COMPOSITOR', 'UBICACIÓN']].values]\n",
    "# tasks_1999 = [delayed(get_url)(titulo, anio, compositor, ubicacion) for titulo, anio, compositor, ubicacion in df_1999[['TITULO', 'AÑO', 'COMPOSITOR', 'UBICACIÓN']].values]\n",
    "# tasks_2000 = [delayed(get_url)(titulo, anio, compositor, ubicacion) for titulo, anio, compositor, ubicacion in df_2000[['TITULO', 'AÑO', 'COMPOSITOR', 'UBICACIÓN']].values]\n",
    "# tasks_2001 = [delayed(get_url)(titulo, anio, compositor, ubicacion) for titulo, anio, compositor, ubicacion in df_2001[['TITULO', 'AÑO', 'COMPOSITOR', 'UBICACIÓN']].values]\n",
    "# tasks_2002 = [delayed(get_url)(titulo, anio, compositor, ubicacion) for titulo, anio, compositor, ubicacion in df_2002[['TITULO', 'AÑO', 'COMPOSITOR', 'UBICACIÓN']].values]\n",
    "# tasks_2003 = [delayed(get_url)(titulo, anio, compositor, ubicacion) for titulo, anio, compositor, ubicacion in df_2003[['TITULO', 'AÑO', 'COMPOSITOR', 'UBICACIÓN']].values]\n",
    "# tasks_2004 = [delayed(get_url)(titulo, anio, compositor, ubicacion) for titulo, anio, compositor, ubicacion in df_2004[['TITULO', 'AÑO', 'COMPOSITOR', 'UBICACIÓN']].values]\n",
    "# tasks_2005 = [delayed(get_url)(titulo, anio, compositor, ubicacion) for titulo, anio, compositor, ubicacion in df_2005[['TITULO', 'AÑO', 'COMPOSITOR', 'UBICACIÓN']].values]\n",
    "# tasks_2006 = [delayed(get_url)(titulo, anio, compositor, ubicacion) for titulo, anio, compositor, ubicacion in df_2006[['TITULO', 'AÑO', 'COMPOSITOR', 'UBICACIÓN']].values]\n",
    "# tasks_2007 = [delayed(get_url)(titulo, anio, compositor, ubicacion) for titulo, anio, compositor, ubicacion in df_2007[['TITULO', 'AÑO', 'COMPOSITOR', 'UBICACIÓN']].values]\n",
    "# tasks_2008 = [delayed(get_url)(titulo, anio, compositor, ubicacion) for titulo, anio, compositor, ubicacion in df_2008[['TITULO', 'AÑO', 'COMPOSITOR', 'UBICACIÓN']].values]\n",
    "# tasks_2009 = [delayed(get_url)(titulo, anio, compositor, ubicacion) for titulo, anio, compositor, ubicacion in df_2009[['TITULO', 'AÑO', 'COMPOSITOR', 'UBICACIÓN']].values]\n",
    "# tasks_2010 = [delayed(get_url)(titulo, anio, compositor, ubicacion) for titulo, anio, compositor, ubicacion in df_2010[['TITULO', 'AÑO', 'COMPOSITOR', 'UBICACIÓN']].values]\n",
    "# tasks_2011 = [delayed(get_url)(titulo, anio, compositor, ubicacion) for titulo, anio, compositor, ubicacion in df_2011[['TITULO', 'AÑO', 'COMPOSITOR', 'UBICACIÓN']].values]\n",
    "# tasks_2012 = [delayed(get_url)(titulo, anio, compositor, ubicacion) for titulo, anio, compositor, ubicacion in df_2012[['TITULO', 'AÑO', 'COMPOSITOR', 'UBICACIÓN']].values]\n",
    "# tasks_2013 = [delayed(get_url)(titulo, anio, compositor, ubicacion) for titulo, anio, compositor, ubicacion in df_2013[['TITULO', 'AÑO', 'COMPOSITOR', 'UBICACIÓN']].values]\n",
    "# tasks_2014 = [delayed(get_url)(titulo, anio, compositor, ubicacion) for titulo, anio, compositor, ubicacion in df_2014[['TITULO', 'AÑO', 'COMPOSITOR', 'UBICACIÓN']].values]\n",
    "# tasks_2015 = [delayed(get_url)(titulo, anio, compositor, ubicacion) for titulo, anio, compositor, ubicacion in df_2015[['TITULO', 'AÑO', 'COMPOSITOR', 'UBICACIÓN']].values]\n",
    "# tasks_2016 = [delayed(get_url)(titulo, anio, compositor, ubicacion) for titulo, anio, compositor, ubicacion in df_2016[['TITULO', 'AÑO', 'COMPOSITOR', 'UBICACIÓN']].values]\n",
    "# tasks_2017 = [delayed(get_url)(titulo, anio, compositor, ubicacion) for titulo, anio, compositor, ubicacion in df_2017[['TITULO', 'AÑO', 'COMPOSITOR', 'UBICACIÓN']].values]\n",
    "# tasks_2018 = [delayed(get_url)(titulo, anio, compositor, ubicacion) for titulo, anio, compositor, ubicacion in df_2018[['TITULO', 'AÑO', 'COMPOSITOR', 'UBICACIÓN']].values]\n",
    "# tasks_2019 = [delayed(get_url)(titulo, anio, compositor, ubicacion) for titulo, anio, compositor, ubicacion in df_2019[['TITULO', 'AÑO', 'COMPOSITOR', 'UBICACIÓN']].values]\n",
    "# tasks_2020 = [delayed(get_url)(titulo, anio, compositor, ubicacion) for titulo, anio, compositor, ubicacion in df_2020[['TITULO', 'AÑO', 'COMPOSITOR', 'UBICACIÓN']].values]\n",
    "# tasks_2021 = [delayed(get_url)(titulo, anio, compositor, ubicacion) for titulo, anio, compositor, ubicacion in df_2021[['TITULO', 'AÑO', 'COMPOSITOR', 'UBICACIÓN']].values]\n",
    "# tasks_2022 = [delayed(get_url)(titulo, anio, compositor, ubicacion) for titulo, anio, compositor, ubicacion in df_2022[['TITULO', 'AÑO', 'COMPOSITOR', 'UBICACIÓN']].values]\n",
    "# tasks_2023 = [delayed(get_url)(titulo, anio, compositor, ubicacion) for titulo, anio, compositor, ubicacion in df_2023[['TITULO', 'AÑO', 'COMPOSITOR', 'UBICACIÓN']].values]"
   ]
  },
  {
   "cell_type": "code",
   "execution_count": null,
   "metadata": {},
   "outputs": [],
   "source": [
    "# print(\"Extrayendo URL's para 1990\")\n",
    "# with ProgressBar():\n",
    "#   df_1990['YT_URL'] = dask.compute(*tasks_1990, scheduler='threads')\n",
    "# print(\"Extrayendo URL's para 1991\")\n",
    "# with ProgressBar():\n",
    "#   df_1991['YT_URL'] = dask.compute(*tasks_1991, scheduler='threads')\n",
    "# print(\"Extrayendo URL's para 1992\")\n",
    "# with ProgressBar():\n",
    "#   df_1992['YT_URL'] = dask.compute(*tasks_1992, scheduler='threads')\n",
    "# print(\"Extrayendo URL's para 1993\")\n",
    "# with ProgressBar():\n",
    "#   df_1993['YT_URL'] = dask.compute(*tasks_1993, scheduler='threads')\n",
    "# print(\"Extrayendo URL's para 1994\")\n",
    "# with ProgressBar():\n",
    "#   df_1994['YT_URL'] = dask.compute(*tasks_1994, scheduler='threads')\n",
    "# print(\"Extrayendo URL's para 1995\")\n",
    "# with ProgressBar():\n",
    "#   df_1995['YT_URL'] = dask.compute(*tasks_1995, scheduler='threads')\n",
    "# print(\"Extrayendo URL's para 1996\")\n",
    "# with ProgressBar():\n",
    "#   df_1996['YT_URL'] = dask.compute(*tasks_1996, scheduler='threads')\n",
    "# print(\"Extrayendo URL's para 1997\")\n",
    "# with ProgressBar():\n",
    "#   df_1997['YT_URL'] = dask.compute(*tasks_1997, scheduler='threads')\n",
    "# print(\"Extrayendo URL's para 1998\")\n",
    "# with ProgressBar():\n",
    "#   df_1998['YT_URL'] = dask.compute(*tasks_1998, scheduler='threads')\n",
    "# print(\"Extrayendo URL's para 1999\")\n",
    "# with ProgressBar():\n",
    "#   df_1999['YT_URL'] = dask.compute(*tasks_1999, scheduler='threads')\n",
    "# print(\"Extrayendo URL's para 2000\")\n",
    "# with ProgressBar():\n",
    "#   df_2000['YT_URL'] = dask.compute(*tasks_2000, scheduler='threads')\n",
    "# print(\"Extrayendo URL's para 2001\")\n",
    "# with ProgressBar():\n",
    "#   df_2001['YT_URL'] = dask.compute(*tasks_2001, scheduler='threads')\n",
    "# print(\"Extrayendo URL's para 2002\")\n",
    "# with ProgressBar():\n",
    "#   df_2002['YT_URL'] = dask.compute(*tasks_2002, scheduler='threads')\n",
    "# print(\"Extrayendo URL's para 2003\")\n",
    "# with ProgressBar():\n",
    "#   df_2003['YT_URL'] = dask.compute(*tasks_2003, scheduler='threads')\n",
    "# print(\"Extrayendo URL's para 2004\")\n",
    "# with ProgressBar():\n",
    "#   df_2004['YT_URL'] = dask.compute(*tasks_2004, scheduler='threads')\n",
    "# print(\"Extrayendo URL's para 2005\")\n",
    "# with ProgressBar():\n",
    "#   df_2005['YT_URL'] = dask.compute(*tasks_2005, scheduler='threads')\n",
    "# print(\"Extrayendo URL's para 2006\")\n",
    "# with ProgressBar():\n",
    "#   df_2006['YT_URL'] = dask.compute(*tasks_2006, scheduler='threads')\n",
    "# print(\"Extrayendo URL's para 2007\")\n",
    "# with ProgressBar():\n",
    "#   df_2007['YT_URL'] = dask.compute(*tasks_2007, scheduler='threads')\n",
    "# print(\"Extrayendo URL's para 2008\")\n",
    "# with ProgressBar():\n",
    "#   df_2008['YT_URL'] = dask.compute(*tasks_2008, scheduler='threads')\n",
    "# print(\"Extrayendo URL's para 2009\")\n",
    "# with ProgressBar():\n",
    "#   df_2009['YT_URL'] = dask.compute(*tasks_2009, scheduler='threads')\n",
    "# print(\"Extrayendo URL's para 2010\")\n",
    "# with ProgressBar():\n",
    "#   df_2010['YT_URL'] = dask.compute(*tasks_2010, scheduler='threads')\n",
    "# print(\"Extrayendo URL's para 2011\")\n",
    "# with ProgressBar():\n",
    "#   df_2011['YT_URL'] = dask.compute(*tasks_2011, scheduler='threads')\n",
    "# print(\"Extrayendo URL's para 2012\")\n",
    "# with ProgressBar():\n",
    "#   df_2012['YT_URL'] = dask.compute(*tasks_2012, scheduler='threads')\n",
    "# print(\"Extrayendo URL's para 2013\")\n",
    "# with ProgressBar():\n",
    "#   df_2013['YT_URL'] = dask.compute(*tasks_2013, scheduler='threads')\n",
    "# print(\"Extrayendo URL's para 2014\")\n",
    "# with ProgressBar():\n",
    "#   df_2014['YT_URL'] = dask.compute(*tasks_2014, scheduler='threads')\n",
    "# print(\"Extrayendo URL's para 2015\")\n",
    "# with ProgressBar():\n",
    "#   df_2015['YT_URL'] = dask.compute(*tasks_2015, scheduler='threads')\n",
    "# print(\"Extrayendo URL's para 2016\")\n",
    "# with ProgressBar():\n",
    "#   df_2016['YT_URL'] = dask.compute(*tasks_2016, scheduler='threads')\n",
    "# print(\"Extrayendo URL's para 2017\")\n",
    "# with ProgressBar():\n",
    "#   df_2017['YT_URL'] = dask.compute(*tasks_2017, scheduler='threads')\n",
    "# print(\"Extrayendo URL's para 2018\")\n",
    "# with ProgressBar():\n",
    "#   df_2018['YT_URL'] = dask.compute(*tasks_2018, scheduler='threads')\n",
    "# print(\"Extrayendo URL's para 2019\")\n",
    "# with ProgressBar():\n",
    "#   df_2019['YT_URL'] = dask.compute(*tasks_2019, scheduler='threads')\n",
    "# print(\"Extrayendo URL's para 2020\")\n",
    "# with ProgressBar():\n",
    "#   df_2020['YT_URL'] = dask.compute(*tasks_2020, scheduler='threads')\n",
    "# print(\"Extrayendo URL's para 2021\")\n",
    "# with ProgressBar():\n",
    "#   df_2021['YT_URL'] = dask.compute(*tasks_2021, scheduler='threads')\n",
    "# print(\"Extrayendo URL's para 2022\")\n",
    "# with ProgressBar():\n",
    "#   df_2022['YT_URL'] = dask.compute(*tasks_2022, scheduler='threads')\n",
    "# print(\"Extrayendo URL's para 2023\")\n",
    "# with ProgressBar():\n",
    "#   df_2023['YT_URL'] = dask.compute(*tasks_2023, scheduler='threads')"
   ]
  },
  {
   "cell_type": "code",
   "execution_count": 55,
   "metadata": {
    "id": "Vb73JphyXP4y"
   },
   "outputs": [
    {
     "name": "stdout",
     "output_type": "stream",
     "text": [
      "<class 'pandas.core.frame.DataFrame'>\n",
      "Index: 141 entries, 7025 to 377908\n",
      "Data columns (total 6 columns):\n",
      " #   Column        Non-Null Count  Dtype \n",
      "---  ------        --------------  ----- \n",
      " 0   TITULO        141 non-null    object\n",
      " 1   AÑO           141 non-null    int64 \n",
      " 2   COMPOSITOR    141 non-null    object\n",
      " 3   UBICACIÓN     141 non-null    object\n",
      " 4   DEPARTAMENTO  141 non-null    object\n",
      " 5   URL           141 non-null    object\n",
      "dtypes: int64(1), object(5)\n",
      "memory usage: 7.7+ KB\n"
     ]
    }
   ],
   "source": [
    "df_1990.info()"
   ]
  },
  {
   "cell_type": "code",
   "execution_count": 56,
   "metadata": {
    "id": "59DvT0h3g_gA"
   },
   "outputs": [
    {
     "data": {
      "text/html": [
       "<div>\n",
       "<style scoped>\n",
       "    .dataframe tbody tr th:only-of-type {\n",
       "        vertical-align: middle;\n",
       "    }\n",
       "\n",
       "    .dataframe tbody tr th {\n",
       "        vertical-align: top;\n",
       "    }\n",
       "\n",
       "    .dataframe thead th {\n",
       "        text-align: right;\n",
       "    }\n",
       "</style>\n",
       "<table border=\"1\" class=\"dataframe\">\n",
       "  <thead>\n",
       "    <tr style=\"text-align: right;\">\n",
       "      <th></th>\n",
       "      <th>TITULO</th>\n",
       "      <th>AÑO</th>\n",
       "      <th>COMPOSITOR</th>\n",
       "      <th>UBICACIÓN</th>\n",
       "      <th>DEPARTAMENTO</th>\n",
       "      <th>URL</th>\n",
       "    </tr>\n",
       "  </thead>\n",
       "  <tbody>\n",
       "    <tr>\n",
       "      <th>158872</th>\n",
       "      <td>PERDIDO EN LAS COPAS</td>\n",
       "      <td>1990</td>\n",
       "      <td>ISRAEL MOTATTO</td>\n",
       "      <td>CAICEDONIA</td>\n",
       "      <td>VALLE DEL CAUCA</td>\n",
       "      <td>https://www.youtube.com/watch?v=HuhGtxegpH8</td>\n",
       "    </tr>\n",
       "    <tr>\n",
       "      <th>157672</th>\n",
       "      <td>A CHUPAR (A BESAR BESAR)</td>\n",
       "      <td>1990</td>\n",
       "      <td>ISAAC VILLANUEVA MENDOZA</td>\n",
       "      <td>BARRANQUILLA</td>\n",
       "      <td>ATLANTICO</td>\n",
       "      <td>https://www.youtube.com/watch?v=iS2pl7Q-L6Y</td>\n",
       "    </tr>\n",
       "  </tbody>\n",
       "</table>\n",
       "</div>"
      ],
      "text/plain": [
       "                          TITULO   AÑO                COMPOSITOR  \\\n",
       "158872      PERDIDO EN LAS COPAS  1990            ISRAEL MOTATTO   \n",
       "157672  A CHUPAR (A BESAR BESAR)  1990  ISAAC VILLANUEVA MENDOZA   \n",
       "\n",
       "           UBICACIÓN     DEPARTAMENTO  \\\n",
       "158872    CAICEDONIA  VALLE DEL CAUCA   \n",
       "157672  BARRANQUILLA        ATLANTICO   \n",
       "\n",
       "                                                URL  \n",
       "158872  https://www.youtube.com/watch?v=HuhGtxegpH8  \n",
       "157672  https://www.youtube.com/watch?v=iS2pl7Q-L6Y  "
      ]
     },
     "execution_count": 56,
     "metadata": {},
     "output_type": "execute_result"
    }
   ],
   "source": [
    "df_1990.sample(2)"
   ]
  },
  {
   "cell_type": "code",
   "execution_count": 57,
   "metadata": {
    "id": "qQ9xatxHtXfB"
   },
   "outputs": [
    {
     "ename": "KeyError",
     "evalue": "'YT_URL'",
     "output_type": "error",
     "traceback": [
      "\u001b[1;31m---------------------------------------------------------------------------\u001b[0m",
      "\u001b[1;31mKeyError\u001b[0m                                  Traceback (most recent call last)",
      "File \u001b[1;32mc:\\Users\\WilmarAl\\AppData\\Local\\Programs\\Python\\Python310\\lib\\site-packages\\pandas\\core\\indexes\\base.py:3805\u001b[0m, in \u001b[0;36mIndex.get_loc\u001b[1;34m(self, key)\u001b[0m\n\u001b[0;32m   3804\u001b[0m \u001b[38;5;28;01mtry\u001b[39;00m:\n\u001b[1;32m-> 3805\u001b[0m     \u001b[38;5;28;01mreturn\u001b[39;00m \u001b[38;5;28;43mself\u001b[39;49m\u001b[38;5;241;43m.\u001b[39;49m\u001b[43m_engine\u001b[49m\u001b[38;5;241;43m.\u001b[39;49m\u001b[43mget_loc\u001b[49m\u001b[43m(\u001b[49m\u001b[43mcasted_key\u001b[49m\u001b[43m)\u001b[49m\n\u001b[0;32m   3806\u001b[0m \u001b[38;5;28;01mexcept\u001b[39;00m \u001b[38;5;167;01mKeyError\u001b[39;00m \u001b[38;5;28;01mas\u001b[39;00m err:\n",
      "File \u001b[1;32mindex.pyx:167\u001b[0m, in \u001b[0;36mpandas._libs.index.IndexEngine.get_loc\u001b[1;34m()\u001b[0m\n",
      "File \u001b[1;32mindex.pyx:196\u001b[0m, in \u001b[0;36mpandas._libs.index.IndexEngine.get_loc\u001b[1;34m()\u001b[0m\n",
      "File \u001b[1;32mpandas\\\\_libs\\\\hashtable_class_helper.pxi:7081\u001b[0m, in \u001b[0;36mpandas._libs.hashtable.PyObjectHashTable.get_item\u001b[1;34m()\u001b[0m\n",
      "File \u001b[1;32mpandas\\\\_libs\\\\hashtable_class_helper.pxi:7089\u001b[0m, in \u001b[0;36mpandas._libs.hashtable.PyObjectHashTable.get_item\u001b[1;34m()\u001b[0m\n",
      "\u001b[1;31mKeyError\u001b[0m: 'YT_URL'",
      "\nThe above exception was the direct cause of the following exception:\n",
      "\u001b[1;31mKeyError\u001b[0m                                  Traceback (most recent call last)",
      "Cell \u001b[1;32mIn[57], line 1\u001b[0m\n\u001b[1;32m----> 1\u001b[0m df_filtered \u001b[38;5;241m=\u001b[39m df_1990[\u001b[43mdf_1990\u001b[49m\u001b[43m[\u001b[49m\u001b[38;5;124;43m\"\u001b[39;49m\u001b[38;5;124;43mYT_URL\u001b[39;49m\u001b[38;5;124;43m\"\u001b[39;49m\u001b[43m]\u001b[49m\u001b[38;5;241m.\u001b[39mstr\u001b[38;5;241m.\u001b[39mcontains(\u001b[38;5;124m\"\u001b[39m\u001b[38;5;124mhttps\u001b[39m\u001b[38;5;124m\"\u001b[39m, na\u001b[38;5;241m=\u001b[39m\u001b[38;5;28;01mFalse\u001b[39;00m)]\n",
      "File \u001b[1;32mc:\\Users\\WilmarAl\\AppData\\Local\\Programs\\Python\\Python310\\lib\\site-packages\\pandas\\core\\frame.py:4102\u001b[0m, in \u001b[0;36mDataFrame.__getitem__\u001b[1;34m(self, key)\u001b[0m\n\u001b[0;32m   4100\u001b[0m \u001b[38;5;28;01mif\u001b[39;00m \u001b[38;5;28mself\u001b[39m\u001b[38;5;241m.\u001b[39mcolumns\u001b[38;5;241m.\u001b[39mnlevels \u001b[38;5;241m>\u001b[39m \u001b[38;5;241m1\u001b[39m:\n\u001b[0;32m   4101\u001b[0m     \u001b[38;5;28;01mreturn\u001b[39;00m \u001b[38;5;28mself\u001b[39m\u001b[38;5;241m.\u001b[39m_getitem_multilevel(key)\n\u001b[1;32m-> 4102\u001b[0m indexer \u001b[38;5;241m=\u001b[39m \u001b[38;5;28;43mself\u001b[39;49m\u001b[38;5;241;43m.\u001b[39;49m\u001b[43mcolumns\u001b[49m\u001b[38;5;241;43m.\u001b[39;49m\u001b[43mget_loc\u001b[49m\u001b[43m(\u001b[49m\u001b[43mkey\u001b[49m\u001b[43m)\u001b[49m\n\u001b[0;32m   4103\u001b[0m \u001b[38;5;28;01mif\u001b[39;00m is_integer(indexer):\n\u001b[0;32m   4104\u001b[0m     indexer \u001b[38;5;241m=\u001b[39m [indexer]\n",
      "File \u001b[1;32mc:\\Users\\WilmarAl\\AppData\\Local\\Programs\\Python\\Python310\\lib\\site-packages\\pandas\\core\\indexes\\base.py:3812\u001b[0m, in \u001b[0;36mIndex.get_loc\u001b[1;34m(self, key)\u001b[0m\n\u001b[0;32m   3807\u001b[0m     \u001b[38;5;28;01mif\u001b[39;00m \u001b[38;5;28misinstance\u001b[39m(casted_key, \u001b[38;5;28mslice\u001b[39m) \u001b[38;5;129;01mor\u001b[39;00m (\n\u001b[0;32m   3808\u001b[0m         \u001b[38;5;28misinstance\u001b[39m(casted_key, abc\u001b[38;5;241m.\u001b[39mIterable)\n\u001b[0;32m   3809\u001b[0m         \u001b[38;5;129;01mand\u001b[39;00m \u001b[38;5;28many\u001b[39m(\u001b[38;5;28misinstance\u001b[39m(x, \u001b[38;5;28mslice\u001b[39m) \u001b[38;5;28;01mfor\u001b[39;00m x \u001b[38;5;129;01min\u001b[39;00m casted_key)\n\u001b[0;32m   3810\u001b[0m     ):\n\u001b[0;32m   3811\u001b[0m         \u001b[38;5;28;01mraise\u001b[39;00m InvalidIndexError(key)\n\u001b[1;32m-> 3812\u001b[0m     \u001b[38;5;28;01mraise\u001b[39;00m \u001b[38;5;167;01mKeyError\u001b[39;00m(key) \u001b[38;5;28;01mfrom\u001b[39;00m \u001b[38;5;21;01merr\u001b[39;00m\n\u001b[0;32m   3813\u001b[0m \u001b[38;5;28;01mexcept\u001b[39;00m \u001b[38;5;167;01mTypeError\u001b[39;00m:\n\u001b[0;32m   3814\u001b[0m     \u001b[38;5;66;03m# If we have a listlike key, _check_indexing_error will raise\u001b[39;00m\n\u001b[0;32m   3815\u001b[0m     \u001b[38;5;66;03m#  InvalidIndexError. Otherwise we fall through and re-raise\u001b[39;00m\n\u001b[0;32m   3816\u001b[0m     \u001b[38;5;66;03m#  the TypeError.\u001b[39;00m\n\u001b[0;32m   3817\u001b[0m     \u001b[38;5;28mself\u001b[39m\u001b[38;5;241m.\u001b[39m_check_indexing_error(key)\n",
      "\u001b[1;31mKeyError\u001b[0m: 'YT_URL'"
     ]
    }
   ],
   "source": [
    "df_filtered = df_1990[df_1990[\"YT_URL\"].str.contains(\"https\", na=False)]"
   ]
  },
  {
   "cell_type": "code",
   "execution_count": null,
   "metadata": {
    "id": "qiOEng-Lt14n"
   },
   "outputs": [
    {
     "name": "stdout",
     "output_type": "stream",
     "text": [
      "<class 'pandas.core.frame.DataFrame'>\n",
      "Index: 324 entries, 9 to 3024\n",
      "Data columns (total 6 columns):\n",
      " #   Column        Non-Null Count  Dtype \n",
      "---  ------        --------------  ----- \n",
      " 0   TITULO        324 non-null    object\n",
      " 1   AÑO           324 non-null    int64 \n",
      " 2   COMPOSITOR    324 non-null    object\n",
      " 3   UBICACIÓN     324 non-null    object\n",
      " 4   DEPARTAMENTO  324 non-null    object\n",
      " 5   YT_URL        324 non-null    object\n",
      "dtypes: int64(1), object(5)\n",
      "memory usage: 17.7+ KB\n"
     ]
    }
   ],
   "source": [
    "df_filtered.info()"
   ]
  },
  {
   "cell_type": "code",
   "execution_count": null,
   "metadata": {
    "id": "naALPJSC-ZgU"
   },
   "outputs": [
    {
     "data": {
      "text/html": [
       "<div>\n",
       "<style scoped>\n",
       "    .dataframe tbody tr th:only-of-type {\n",
       "        vertical-align: middle;\n",
       "    }\n",
       "\n",
       "    .dataframe tbody tr th {\n",
       "        vertical-align: top;\n",
       "    }\n",
       "\n",
       "    .dataframe thead th {\n",
       "        text-align: right;\n",
       "    }\n",
       "</style>\n",
       "<table border=\"1\" class=\"dataframe\">\n",
       "  <thead>\n",
       "    <tr style=\"text-align: right;\">\n",
       "      <th></th>\n",
       "      <th>TITULO</th>\n",
       "      <th>AÑO</th>\n",
       "      <th>COMPOSITOR</th>\n",
       "      <th>UBICACIÓN</th>\n",
       "      <th>DEPARTAMENTO</th>\n",
       "      <th>YT_URL</th>\n",
       "    </tr>\n",
       "  </thead>\n",
       "  <tbody>\n",
       "    <tr>\n",
       "      <th>2531</th>\n",
       "      <td>CON SABOR A SOL</td>\n",
       "      <td>1990</td>\n",
       "      <td>DANIEL DAVID HERRERA HERRERA</td>\n",
       "      <td>BOGOTA D.C.</td>\n",
       "      <td>BOGOTA D.C.</td>\n",
       "      <td>https://www.youtube.com/watch?v=uuf6iqmAyE0</td>\n",
       "    </tr>\n",
       "    <tr>\n",
       "      <th>960</th>\n",
       "      <td>CIELO AZUL</td>\n",
       "      <td>1990</td>\n",
       "      <td>DARIO CARCAMO GERRERO</td>\n",
       "      <td>BOGOTA D.C.</td>\n",
       "      <td>BOGOTA D.C.</td>\n",
       "      <td>https://www.youtube.com/watch?v=cuAw9dbeBXY</td>\n",
       "    </tr>\n",
       "    <tr>\n",
       "      <th>661</th>\n",
       "      <td>VUELVE A MI</td>\n",
       "      <td>1990</td>\n",
       "      <td>DANIEL JOSE ABADIA CARRASCO</td>\n",
       "      <td>BOGOTA D.C.</td>\n",
       "      <td>BOGOTA D.C.</td>\n",
       "      <td>https://www.youtube.com/watch?v=P6qYdAhKCSs</td>\n",
       "    </tr>\n",
       "    <tr>\n",
       "      <th>321</th>\n",
       "      <td>MILAGRO DE DIOS</td>\n",
       "      <td>1990</td>\n",
       "      <td>ROMUALDO LUIS BRITO LOPEZ</td>\n",
       "      <td>BOGOTA D.C.</td>\n",
       "      <td>BOGOTA D.C.</td>\n",
       "      <td>https://www.youtube.com/watch?v=hicGK5AKhCU</td>\n",
       "    </tr>\n",
       "    <tr>\n",
       "      <th>2874</th>\n",
       "      <td>COPLAS HERIDAS</td>\n",
       "      <td>1990</td>\n",
       "      <td>HERNÁN ALFONSO URBINA JOIRO</td>\n",
       "      <td>CARTAGENA</td>\n",
       "      <td>BOLIVAR</td>\n",
       "      <td>https://www.youtube.com/watch?v=ZvuYFY8EO2E</td>\n",
       "    </tr>\n",
       "  </tbody>\n",
       "</table>\n",
       "</div>"
      ],
      "text/plain": [
       "               TITULO   AÑO                    COMPOSITOR    UBICACIÓN  \\\n",
       "2531  CON SABOR A SOL  1990  DANIEL DAVID HERRERA HERRERA  BOGOTA D.C.   \n",
       "960        CIELO AZUL  1990         DARIO CARCAMO GERRERO  BOGOTA D.C.   \n",
       "661       VUELVE A MI  1990   DANIEL JOSE ABADIA CARRASCO  BOGOTA D.C.   \n",
       "321   MILAGRO DE DIOS  1990     ROMUALDO LUIS BRITO LOPEZ  BOGOTA D.C.   \n",
       "2874   COPLAS HERIDAS  1990   HERNÁN ALFONSO URBINA JOIRO    CARTAGENA   \n",
       "\n",
       "     DEPARTAMENTO                                       YT_URL  \n",
       "2531  BOGOTA D.C.  https://www.youtube.com/watch?v=uuf6iqmAyE0  \n",
       "960   BOGOTA D.C.  https://www.youtube.com/watch?v=cuAw9dbeBXY  \n",
       "661   BOGOTA D.C.  https://www.youtube.com/watch?v=P6qYdAhKCSs  \n",
       "321   BOGOTA D.C.  https://www.youtube.com/watch?v=hicGK5AKhCU  \n",
       "2874      BOLIVAR  https://www.youtube.com/watch?v=ZvuYFY8EO2E  "
      ]
     },
     "execution_count": 43,
     "metadata": {},
     "output_type": "execute_result"
    }
   ],
   "source": [
    "df_filtered.sample(5)"
   ]
  },
  {
   "cell_type": "code",
   "execution_count": null,
   "metadata": {
    "id": "USyKyOfzaCJz"
   },
   "outputs": [],
   "source": [
    "# df_sampled.to_excel(f\"{OUTPUT_PATH}canciones con URL.xlsx\", index=False)"
   ]
  },
  {
   "cell_type": "markdown",
   "metadata": {},
   "source": [
    "## Buscar Audio y Extraer la Letra"
   ]
  },
  {
   "cell_type": "code",
   "execution_count": null,
   "metadata": {},
   "outputs": [],
   "source": [
    "# tasks_1990 = [delayed(get_lyrics)(url) for url in df_1990['URL']]\n",
    "# tasks_1991 = [delayed(get_lyrics)(url) for url in df_1991['URL']]\n",
    "# tasks_1992 = [delayed(get_lyrics)(url) for url in df_1992['URL']]\n",
    "# tasks_1993 = [delayed(get_lyrics)(url) for url in df_1993['URL']]\n",
    "# tasks_1994 = [delayed(get_lyrics)(url) for url in df_1994['URL']]\n",
    "# tasks_1995 = [delayed(get_lyrics)(url) for url in df_1995['URL']]\n",
    "# tasks_1996 = [delayed(get_lyrics)(url) for url in df_1996['URL']]\n",
    "# tasks_1997 = [delayed(get_lyrics)(url) for url in df_1997['URL']]\n",
    "# tasks_1998 = [delayed(get_lyrics)(url) for url in df_1998['URL']]\n",
    "# tasks_1999 = [delayed(get_lyrics)(url) for url in df_1999['URL']]\n",
    "# tasks_2000 = [delayed(get_lyrics)(url) for url IN df_2000['URL']]\n",
    "# tasks_2001 = [delayed(get_lyrics)(url) for url in df_2001['URL']]\n",
    "# tasks_2002 = [delayed(get_lyrics)(url) for url in df_2002['URL']]\n",
    "# tasks_2003 = [delayed(get_lyrics)(url) for url in df_2003['URL']]\n",
    "# tasks_2004 = [delayed(get_lyrics)(url) for url in df_2004['URL']]\n",
    "# tasks_2005 = [delayed(get_lyrics)(url) for url in df_2005['URL']]\n",
    "# tasks_2006 = [delayed(get_lyrics)(url) for url in df_2006['URL']]\n",
    "# tasks_2007 = [delayed(get_lyrics)(url) for url in df_2007['URL']]\n",
    "# tasks_2008 = [delayed(get_lyrics)(url) for url in df_2008['URL']]\n",
    "# tasks_2009 = [delayed(get_lyrics)(url) for url in df_2009['URL']]\n",
    "# tasks_2010 = [delayed(get_lyrics)(url) for url in df_2010['URL']]\n",
    "# tasks_2011 = [delayed(get_lyrics)(url) for url in df_2011['URL']]\n",
    "# tasks_2012 = [delayed(get_lyrics)(url) for url in df_2012['URL']]\n",
    "# tasks_2013 = [delayed(get_lyrics)(url) for url in df_2013['URL']]\n",
    "# tasks_2014 = [delayed(get_lyrics)(url) for url in df_2014['URL']]\n",
    "# tasks_2015 = [delayed(get_lyrics)(url) for url in df_2015['URL']]\n",
    "# tasks_2016 = [delayed(get_lyrics)(url) for url in df_2016['URL']]\n",
    "# tasks_2017 = [delayed(get_lyrics)(url) for url in df_2017['URL']]\n",
    "# tasks_2018 = [delayed(get_lyrics)(url) for url in df_2018['URL']]\n",
    "# tasks_2019 = [delayed(get_lyrics)(url) for url in df_2019['URL']]\n",
    "# tasks_2020 = [delayed(get_lyrics)(url) for url in df_2020['URL']]\n",
    "# tasks_2021 = [delayed(get_lyrics)(url) for url in df_2021['URL']]\n",
    "# tasks_2022 = [delayed(get_lyrics)(url) for url in df_2022['URL']]\n",
    "# tasks_2023 = [delayed(get_lyrics)(url) for url in df_2023['URL']]"
   ]
  },
  {
   "cell_type": "code",
   "execution_count": null,
   "metadata": {},
   "outputs": [],
   "source": [
    "# df_1990.info()"
   ]
  },
  {
   "cell_type": "code",
   "execution_count": null,
   "metadata": {},
   "outputs": [],
   "source": [
    "# with ProgressBar(): \n",
    "    # df_1990['LETRA'] = df_1990['URL'].apply(lambda x: get_lyrics(x))"
   ]
  },
  {
   "cell_type": "code",
   "execution_count": 74,
   "metadata": {
    "id": "Fie81mdmetNp"
   },
   "outputs": [],
   "source": [
    "tasks_2 = [delayed(get_lyrics)(url, audio_name) for url, audio_name in df[['URL','AUDIO_NAME']].values]\n",
    "#tasks_2 = [delayed(get_lyrics)(url, audio_name) for url, audio_name in df_1990[['URL','AUDIO_NAME']].values]\n",
    "# df['LETRA'] = dask.compute(*tasks_2, scheduler='threads')"
   ]
  },
  {
   "cell_type": "code",
   "execution_count": 75,
   "metadata": {
    "colab": {
     "base_uri": "https://localhost:8080/"
    },
    "executionInfo": {
     "elapsed": 2689361,
     "status": "ok",
     "timestamp": 1739757766083,
     "user": {
      "displayName": "wilmar leonardo alvarez guzman",
      "userId": "06664832137781473602"
     },
     "user_tz": 300
    },
    "id": "h5F6J7veeXOg",
    "outputId": "e5a9a604-ea49-42fa-8963-5870f9438bc0"
   },
   "outputs": [
    {
     "name": "stdout",
     "output_type": "stream",
     "text": [
      "[########################################] | 100% Completed | 55m 8ss\n"
     ]
    }
   ],
   "source": [
    "with ProgressBar(): \n",
    "    df['LETRA'] = dask.compute(*tasks_2, scheduler='threads')"
   ]
  },
  {
   "cell_type": "code",
   "execution_count": 76,
   "metadata": {},
   "outputs": [
    {
     "name": "stdout",
     "output_type": "stream",
     "text": [
      "<class 'pandas.core.frame.DataFrame'>\n",
      "Index: 1202 entries, 0 to 377914\n",
      "Data columns (total 8 columns):\n",
      " #   Column        Non-Null Count  Dtype \n",
      "---  ------        --------------  ----- \n",
      " 0   TITULO        1202 non-null   object\n",
      " 1   AÑO           1202 non-null   int64 \n",
      " 2   COMPOSITOR    1202 non-null   object\n",
      " 3   UBICACIÓN     1202 non-null   object\n",
      " 4   DEPARTAMENTO  1202 non-null   object\n",
      " 5   URL           1202 non-null   object\n",
      " 6   AUDIO_NAME    1202 non-null   object\n",
      " 7   LETRA         23 non-null     object\n",
      "dtypes: int64(1), object(7)\n",
      "memory usage: 84.5+ KB\n"
     ]
    }
   ],
   "source": [
    "df.info()"
   ]
  },
  {
   "cell_type": "code",
   "execution_count": 78,
   "metadata": {
    "colab": {
     "base_uri": "https://localhost:8080/"
    },
    "executionInfo": {
     "elapsed": 68,
     "status": "ok",
     "timestamp": 1739757767226,
     "user": {
      "displayName": "wilmar leonardo alvarez guzman",
      "userId": "06664832137781473602"
     },
     "user_tz": 300
    },
    "id": "pT0CCJKxfKGz",
    "outputId": "de459b9a-ee5e-4fe3-8f86-18b7f69e244b"
   },
   "outputs": [
    {
     "name": "stdout",
     "output_type": "stream",
     "text": [
      "289383                                                 None\n",
      "344815                                                 None\n",
      "15441                                                  None\n",
      "311832     como tengo que buscarte a tu aparecimiento? v...\n",
      "159456                                                 None\n",
      "159465                                                 None\n",
      "159477                                                 None\n",
      "159393                                                 None\n",
      "80589                                                  None\n",
      "265834     ¡cuidado! ¡cuidado! ¡pone el pizzi! como yo t...\n",
      "15427      estas son mis novias, mis novias que pueden s...\n",
      "260812                                                 None\n",
      "80595                                                  None\n",
      "15391                                                  None\n",
      "344687                                                 None\n",
      "344672                                                 None\n",
      "38021                                                  None\n",
      "344642                                                 None\n",
      "344700                                                 None\n",
      "344814                                                 None\n",
      "Name: LETRA, dtype: object\n"
     ]
    }
   ],
   "source": [
    "print(df['LETRA'].sample(20))"
   ]
  },
  {
   "cell_type": "code",
   "execution_count": null,
   "metadata": {},
   "outputs": [],
   "source": [
    "df.dropna(inplace=True)"
   ]
  },
  {
   "cell_type": "code",
   "execution_count": null,
   "metadata": {},
   "outputs": [
    {
     "name": "stdout",
     "output_type": "stream",
     "text": [
      "<class 'pandas.core.frame.DataFrame'>\n",
      "Index: 0 entries\n",
      "Data columns (total 8 columns):\n",
      " #   Column        Non-Null Count  Dtype \n",
      "---  ------        --------------  ----- \n",
      " 0   TITULO        0 non-null      object\n",
      " 1   AÑO           0 non-null      int64 \n",
      " 2   COMPOSITOR    0 non-null      object\n",
      " 3   UBICACIÓN     0 non-null      object\n",
      " 4   DEPARTAMENTO  0 non-null      object\n",
      " 5   URL           0 non-null      object\n",
      " 6   AUDIO_NAME    0 non-null      object\n",
      " 7   LETRA         0 non-null      object\n",
      "dtypes: int64(1), object(7)\n",
      "memory usage: 0.0+ bytes\n"
     ]
    }
   ],
   "source": [
    "df.info()"
   ]
  },
  {
   "cell_type": "code",
   "execution_count": null,
   "metadata": {
    "id": "M6wp0QnxkNHt"
   },
   "outputs": [],
   "source": [
    "# df.to_excel(f\"{OUTPUT_PATH}canciones_letra.xlsx\", index=False)"
   ]
  }
 ],
 "metadata": {
  "colab": {
   "authorship_tag": "ABX9TyNIdTy8VZYvpC47VtaYy0BE",
   "provenance": []
  },
  "kernelspec": {
   "display_name": "Python 3",
   "name": "python3"
  },
  "language_info": {
   "codemirror_mode": {
    "name": "ipython",
    "version": 3
   },
   "file_extension": ".py",
   "mimetype": "text/x-python",
   "name": "python",
   "nbconvert_exporter": "python",
   "pygments_lexer": "ipython3",
   "version": "3.10.1"
  }
 },
 "nbformat": 4,
 "nbformat_minor": 0
}
