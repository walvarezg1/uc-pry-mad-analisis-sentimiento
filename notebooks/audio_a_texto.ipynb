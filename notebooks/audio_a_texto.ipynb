{
 "cells": [
  {
   "cell_type": "code",
   "execution_count": null,
   "metadata": {},
   "outputs": [
    {
     "name": "stdout",
     "output_type": "stream",
     "text": [
      "Collecting openai-whisper\n",
      "  Downloading openai-whisper-20240930.tar.gz (800 kB)\n",
      "     ---------------------------------------- 0.0/800.5 kB ? eta -:--:--\n",
      "     ------------------------------------- 800.5/800.5 kB 33.6 MB/s eta 0:00:00\n",
      "  Installing build dependencies: started\n",
      "  Installing build dependencies: finished with status 'done'\n",
      "  Getting requirements to build wheel: started\n",
      "  Getting requirements to build wheel: finished with status 'done'\n",
      "  Preparing metadata (pyproject.toml): started\n",
      "  Preparing metadata (pyproject.toml): finished with status 'done'\n",
      "Collecting numba (from openai-whisper)\n",
      "  Downloading numba-0.61.0-cp310-cp310-win_amd64.whl.metadata (2.8 kB)\n",
      "Requirement already satisfied: numpy in c:\\users\\wilmaral\\appdata\\local\\programs\\python\\python310\\lib\\site-packages (from openai-whisper) (1.26.4)\n",
      "Collecting torch (from openai-whisper)\n",
      "  Downloading torch-2.6.0-cp310-cp310-win_amd64.whl.metadata (28 kB)\n",
      "Collecting tqdm (from openai-whisper)\n",
      "  Downloading tqdm-4.67.1-py3-none-any.whl.metadata (57 kB)\n",
      "Collecting more-itertools (from openai-whisper)\n",
      "  Downloading more_itertools-10.6.0-py3-none-any.whl.metadata (37 kB)\n",
      "Collecting tiktoken (from openai-whisper)\n",
      "  Downloading tiktoken-0.9.0-cp310-cp310-win_amd64.whl.metadata (6.8 kB)\n",
      "Collecting llvmlite<0.45,>=0.44.0dev0 (from numba->openai-whisper)\n",
      "  Downloading llvmlite-0.44.0-cp310-cp310-win_amd64.whl.metadata (5.0 kB)\n",
      "Collecting regex>=2022.1.18 (from tiktoken->openai-whisper)\n",
      "  Downloading regex-2024.11.6-cp310-cp310-win_amd64.whl.metadata (41 kB)\n",
      "Requirement already satisfied: requests>=2.26.0 in c:\\users\\wilmaral\\appdata\\local\\programs\\python\\python310\\lib\\site-packages (from tiktoken->openai-whisper) (2.32.3)\n",
      "Requirement already satisfied: filelock in c:\\users\\wilmaral\\appdata\\local\\programs\\python\\python310\\lib\\site-packages (from torch->openai-whisper) (3.16.0)\n",
      "Requirement already satisfied: typing-extensions>=4.10.0 in c:\\users\\wilmaral\\appdata\\local\\programs\\python\\python310\\lib\\site-packages (from torch->openai-whisper) (4.12.2)\n",
      "Requirement already satisfied: networkx in c:\\users\\wilmaral\\appdata\\local\\programs\\python\\python310\\lib\\site-packages (from torch->openai-whisper) (3.3)\n",
      "Collecting jinja2 (from torch->openai-whisper)\n",
      "  Downloading jinja2-3.1.6-py3-none-any.whl.metadata (2.9 kB)\n",
      "Requirement already satisfied: fsspec in c:\\users\\wilmaral\\appdata\\local\\programs\\python\\python310\\lib\\site-packages (from torch->openai-whisper) (2024.10.0)\n",
      "Collecting sympy==1.13.1 (from torch->openai-whisper)\n",
      "  Downloading sympy-1.13.1-py3-none-any.whl.metadata (12 kB)\n",
      "Collecting mpmath<1.4,>=1.1.0 (from sympy==1.13.1->torch->openai-whisper)\n",
      "  Downloading mpmath-1.3.0-py3-none-any.whl.metadata (8.6 kB)\n",
      "Requirement already satisfied: colorama in c:\\users\\wilmaral\\appdata\\local\\programs\\python\\python310\\lib\\site-packages (from tqdm->openai-whisper) (0.4.4)\n",
      "Requirement already satisfied: charset-normalizer<4,>=2 in c:\\users\\wilmaral\\appdata\\local\\programs\\python\\python310\\lib\\site-packages (from requests>=2.26.0->tiktoken->openai-whisper) (3.3.2)\n",
      "Requirement already satisfied: idna<4,>=2.5 in c:\\users\\wilmaral\\appdata\\local\\programs\\python\\python310\\lib\\site-packages (from requests>=2.26.0->tiktoken->openai-whisper) (3.9)\n",
      "Requirement already satisfied: urllib3<3,>=1.21.1 in c:\\users\\wilmaral\\appdata\\local\\programs\\python\\python310\\lib\\site-packages (from requests>=2.26.0->tiktoken->openai-whisper) (2.2.3)\n",
      "Requirement already satisfied: certifi>=2017.4.17 in c:\\users\\wilmaral\\appdata\\local\\programs\\python\\python310\\lib\\site-packages (from requests>=2.26.0->tiktoken->openai-whisper) (2024.8.30)\n",
      "Requirement already satisfied: MarkupSafe>=2.0 in c:\\users\\wilmaral\\appdata\\local\\programs\\python\\python310\\lib\\site-packages (from jinja2->torch->openai-whisper) (3.0.2)\n",
      "Downloading more_itertools-10.6.0-py3-none-any.whl (63 kB)\n",
      "Downloading numba-0.61.0-cp310-cp310-win_amd64.whl (2.8 MB)\n",
      "   ---------------------------------------- 0.0/2.8 MB ? eta -:--:--\n",
      "   ---------------------------------------- 2.8/2.8 MB 54.6 MB/s eta 0:00:00\n",
      "Downloading tiktoken-0.9.0-cp310-cp310-win_amd64.whl (894 kB)\n",
      "   ---------------------------------------- 0.0/894.0 kB ? eta -:--:--\n",
      "   --------------------------------------- 894.0/894.0 kB 39.5 MB/s eta 0:00:00\n",
      "Downloading torch-2.6.0-cp310-cp310-win_amd64.whl (204.2 MB)\n",
      "   ---------------------------------------- 0.0/204.2 MB ? eta -:--:--\n",
      "   -- ------------------------------------- 13.6/204.2 MB 71.5 MB/s eta 0:00:03\n",
      "   ----- ---------------------------------- 28.3/204.2 MB 71.9 MB/s eta 0:00:03\n",
      "   -------- ------------------------------- 42.5/204.2 MB 69.3 MB/s eta 0:00:03\n",
      "   ----------- ---------------------------- 56.6/204.2 MB 69.4 MB/s eta 0:00:03\n",
      "   ------------- -------------------------- 71.0/204.2 MB 69.7 MB/s eta 0:00:02\n",
      "   ---------------- ----------------------- 86.0/204.2 MB 70.4 MB/s eta 0:00:02\n",
      "   ------------------- -------------------- 99.9/204.2 MB 70.1 MB/s eta 0:00:02\n",
      "   --------------------- ----------------- 113.8/204.2 MB 69.9 MB/s eta 0:00:02\n",
      "   ------------------------ -------------- 128.2/204.2 MB 70.0 MB/s eta 0:00:02\n",
      "   --------------------------- ----------- 143.4/204.2 MB 69.9 MB/s eta 0:00:01\n",
      "   ------------------------------ -------- 158.3/204.2 MB 70.3 MB/s eta 0:00:01\n",
      "   --------------------------------- ----- 173.0/204.2 MB 70.9 MB/s eta 0:00:01\n",
      "   ----------------------------------- --- 186.9/204.2 MB 70.7 MB/s eta 0:00:01\n",
      "   --------------------------------------  201.6/204.2 MB 70.4 MB/s eta 0:00:01\n",
      "   --------------------------------------  203.9/204.2 MB 70.5 MB/s eta 0:00:01\n",
      "   --------------------------------------- 204.2/204.2 MB 63.0 MB/s eta 0:00:00\n",
      "Downloading sympy-1.13.1-py3-none-any.whl (6.2 MB)\n",
      "   ---------------------------------------- 0.0/6.2 MB ? eta -:--:--\n",
      "   ---------------------------------------- 6.2/6.2 MB 54.4 MB/s eta 0:00:00\n",
      "Downloading tqdm-4.67.1-py3-none-any.whl (78 kB)\n",
      "Downloading llvmlite-0.44.0-cp310-cp310-win_amd64.whl (30.3 MB)\n",
      "   ---------------------------------------- 0.0/30.3 MB ? eta -:--:--\n",
      "   ------------------- -------------------- 14.7/30.3 MB 77.1 MB/s eta 0:00:01\n",
      "   ---------------------------------------  29.6/30.3 MB 75.3 MB/s eta 0:00:01\n",
      "   ---------------------------------------- 30.3/30.3 MB 64.3 MB/s eta 0:00:00\n",
      "Downloading regex-2024.11.6-cp310-cp310-win_amd64.whl (274 kB)\n",
      "Downloading jinja2-3.1.6-py3-none-any.whl (134 kB)\n",
      "Downloading mpmath-1.3.0-py3-none-any.whl (536 kB)\n",
      "   ---------------------------------------- 0.0/536.2 kB ? eta -:--:--\n",
      "   --------------------------------------- 536.2/536.2 kB 17.1 MB/s eta 0:00:00\n",
      "Building wheels for collected packages: openai-whisper\n",
      "  Building wheel for openai-whisper (pyproject.toml): started\n",
      "  Building wheel for openai-whisper (pyproject.toml): finished with status 'done'\n",
      "  Created wheel for openai-whisper: filename=openai_whisper-20240930-py3-none-any.whl size=803408 sha256=757d931e1620f90dd8740ff8fd70723f31d8b7d6913f36bf988a39dfcc1d453e\n",
      "  Stored in directory: c:\\users\\wilmaral\\appdata\\local\\pip\\cache\\wheels\\dd\\4a\\1f\\d1c4bf3b9133c8168fe617ed979cab7b14fe381d059ffb9d83\n",
      "Successfully built openai-whisper\n",
      "Installing collected packages: mpmath, tqdm, sympy, regex, more-itertools, llvmlite, jinja2, torch, tiktoken, numba, openai-whisper\n",
      "Successfully installed jinja2-3.1.6 llvmlite-0.44.0 more-itertools-10.6.0 mpmath-1.3.0 numba-0.61.0 openai-whisper-20240930 regex-2024.11.6 sympy-1.13.1 tiktoken-0.9.0 torch-2.6.0 tqdm-4.67.1\n",
      "Note: you may need to restart the kernel to use updated packages.\n"
     ]
    }
   ],
   "source": [
    "#"
   ]
  },
  {
   "cell_type": "code",
   "execution_count": null,
   "metadata": {},
   "outputs": [
    {
     "name": "stderr",
     "output_type": "stream",
     "text": [
      "100%|███████████████████████████████████████| 139M/139M [00:04<00:00, 30.1MiB/s]\n",
      "c:\\Users\\WilmarAl\\AppData\\Local\\Programs\\Python\\Python310\\lib\\site-packages\\whisper\\transcribe.py:126: UserWarning: FP16 is not supported on CPU; using FP32 instead\n",
      "  warnings.warn(\"FP16 is not supported on CPU; using FP32 instead\")\n"
     ]
    }
   ],
   "source": []
  },
  {
   "cell_type": "code",
   "execution_count": null,
   "metadata": {},
   "outputs": [
    {
     "name": "stdout",
     "output_type": "stream",
     "text": [
      " Oye es la sangre, suye mi vida y ser mi miedo de amor Yo sé que tú eres muy feliz, amor con las costumbres y tadina Y yo te amo sin saber por qué, siento las mías tan cuerdadida Pero a crece saber cómo en vez es mi valla y mi vida Y se va perdiendo la tercera y mesa de grandes amigos Siento en mi alma un desprendimiento y a mí me la estima Cuando quedo solo rodando en el valle, ¿cuál baja ruido? Quiero que te diga, me diga, me diga, me diga, me diga Nacias a Dios, yo no sé, soy que al guata puri, que es la pesa de mi peso Y en mi destino, sin fin, por hacerse feliz, que a mí me adera te quiero Y en mi destino, sin fin, por hacerse feliz, y a mí me adera te quiero Y a mí me adera te quiero, y a mí me adera, voy a hacerte enamorar de mi freccio Y a mí me adera te quiero, y a mí me adera voy a hacerte enamorar de mi freccio Voy едerte enamorar de la devada, voy a hacerte enamorar de un recordio Voy hacerte enamorar de mi guitarr Could be a hacerte enamorar de mi canción Y a mí me adera te quiero, y a mí me adera voy a hacerte enamorar Guruks Gursk Paraen muy bien accusations Que mucho ¡Vamos a ver, vamos a ver, vamos a ver, vamos a ver, vamos a ver, vamos a ver, vamos a ver, vamos a ver, vamos a ver, vamos a ver, vamos a ver, vamos a ver, vamos a ver, vamos a ver, vamos a ver, vamos a ver, vamos a ver, vamos a ver, vamos a ver, vamos a ver, vamos a ver, vamos a ver, vamos a ver, vamos a ver, vamos a ver, vamos a ver, vamos a ver, vamos a ver, vamos a ver, vamos a ver, vamos a ver, vamos a ver, vamos a ver, vamos a ver, vamos a ver, vamos a ver, vamos a ver, vamos a ver, vamos a ver, vamos a ver, vamos a ver, vamos a ver, vamos a ver, vamos a ver, vamos a ver, vamos a ver, vamos a ver, vamos a ver, vamos a ver, vamos a ver, vamos a ver, vamos a ver, vamos a ver, vamos a ver, vamos a ver, vamos vamos a ver, vamos a ver, vamos a ver, vamos a ver, vamos a ver, vamos a ver, vamos a ver, vamos a ver, vamos a ver, vamos a ver, vamos a ver, vamos a ver, vamos a ver, vamos a ver, vamos a ver, vamos a ver, vamos a ver, vamos a ver, vamos a ver, vamos a ver, vamos a ver, vamos a ver, vamos a ver, vamos a ver, vamos a ver, vamos a ver, vamos a ver, vamos a ver, vamos a ver, vamos a ver, vamos a ver, vamos a ver, vamos a ver, vamos a ver, vamos a ver, vamos a ver, vamos a ver, vamos a ver, vamos a ver, vamos a ver, vamos a ver, vamos a ver, vamos a ver, vamos a ver, vamos a ver, vamos a ver, vamos a ver, vamos a ver, vamos a ver, vamos a ver, vamos a ver, vamos a ver, vamos a ver, vamos a ver, vamos a ver, vamos vamos a ver, vamos a ver, vamos a ver, vamos a ver, vamos a ver, vamos a ver, vamos a ver, vamos a ver, vamos a ver, vamos a ver, vamos a ver, vamos a ver, vamos a ver, vamos a ver, vamos a ver, vamos a ver, vamos a ver, vamos a ver, vamos a ver, vamos a ver, vamos a ver, vamos a ver, vamos a ver, vamos a ver, vamos a ver, vamos a ver, vamos a ver, vamos a ver, vamos a ver, vamos a ver, vamos a ver, vamos a ver, vamos a ver, vamos a ver, vamos a ver, vamos a ver, vamos a ver, vamos a ver, vamos a ver, vamos a ver, vamos a ver, vamos a ver, vamos a ver, vamos a ver, vamos a ver, vamos a ver, vamos a ver, vamos a ver, vamos a ver, vamos a ver, vamos a ver, vamos a ver, vamos a ver, vamos a ver, vamos a ver, vamos voy a hacerte enamorar de mi guitarra, voy a hacerte enamorar de un heterodrome, voy a hacerte enamorar de la animada, voy a hacerte enamorar de una canción y a mi manera te quiero y a mi manera voy a hacerte enamorar voy a hacerte enamorar voy a hacerte enamorar voy a hacerte enamorar\n"
     ]
    }
   ],
   "source": []
  }
 ],
 "metadata": {
  "kernelspec": {
   "display_name": "Python 3",
   "language": "python",
   "name": "python3"
  },
  "language_info": {
   "codemirror_mode": {
    "name": "ipython",
    "version": 3
   },
   "file_extension": ".py",
   "mimetype": "text/x-python",
   "name": "python",
   "nbconvert_exporter": "python",
   "pygments_lexer": "ipython3",
   "version": "3.10.1"
  }
 },
 "nbformat": 4,
 "nbformat_minor": 2
}
